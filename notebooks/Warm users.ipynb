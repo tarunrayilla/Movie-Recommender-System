{
 "cells": [
  {
   "cell_type": "code",
   "execution_count": 48,
   "id": "f0647c89",
   "metadata": {},
   "outputs": [],
   "source": [
    "import pandas as pd\n",
    "import numpy as np\n",
    "from sklearn.model_selection import train_test_split"
   ]
  },
  {
   "cell_type": "code",
   "execution_count": 49,
   "id": "ab17e118",
   "metadata": {},
   "outputs": [],
   "source": [
    "def convert_onehot_to_category(df, id_col, one_hot_columns, category_col='category'):\n",
    "    df_concat = pd.DataFrame(columns=[id_col, category_col])\n",
    "    for col in one_hot_columns:\n",
    "        df_each = df[df[col] >= 1][[id_col, col]]\n",
    "        df_each[col] = col\n",
    "\n",
    "        df_each.columns = [id_col, category_col]\n",
    "        df_concat = pd.concat([df_concat, df_each], axis=0)\n",
    "    df_concat = df_concat.drop_duplicates().reset_index(drop=True)\n",
    "    \n",
    "    return df_concat"
   ]
  },
  {
   "cell_type": "code",
   "execution_count": 50,
   "id": "68823df7",
   "metadata": {},
   "outputs": [],
   "source": [
    "df_rating = pd.read_csv(\"C:/Users/91995/Downloads/archive/ml-100k/u.data\", sep=\"\\t\")\n",
    "df_rating.columns = ['user_id', 'movie_id', 'rating', 'timestamp']\n",
    "df_rating = df_rating.drop(['timestamp'], axis=1)\n",
    "\n",
    "df_user = pd.read_csv('C:/Users/91995/Downloads/archive/ml-100k/u.user', sep='|', header=None)\n",
    "df_user.columns = ['user_id', 'age', 'gender', 'occupation', 'zip_code']\n",
    "from sklearn.preprocessing import LabelEncoder\n",
    "en = LabelEncoder()\n",
    "df_user['gender'] = en.fit_transform(df_user['gender'])\n",
    "\n",
    "\n",
    "item_cols = ['movie_id', 'movie_title', 'release_date', 'video_release_date', 'imdb_url']\n",
    "genre_cols = ['unknown', 'action', 'adventure', 'animation', 'children', 'comedy', 'crime', 'documentary',\n",
    "              'drama','fantasy', 'film_noir', 'horror', 'musical', 'mystery', 'romance', 'sci_fi', 'thriller', \n",
    "              'war','western']\n",
    "\n",
    "df_item_genre = pd.read_csv('C:/Users/91995/Downloads/archive/ml-100k/u.item', sep='|',encoding='latin-1')\n",
    "df_item_genre.columns = item_cols + genre_cols\n",
    "\n",
    "\n",
    "df_item = df_item_genre[item_cols]\n",
    "use_item_cols = ['movie_id', 'movie_title', 'release_date']\n",
    "df_item = df_item[use_item_cols]\n",
    "\n",
    "df_genre = df_item_genre[['movie_id'] + genre_cols]\n",
    "\n",
    "use_genre_cols = ['action', 'adventure', 'animation', 'children', 'comedy', 'crime', 'drama', 'horror', 'musical', 'mystery', 'romance', 'sci_fi', 'thriller']\n",
    "df_genre2 = df_genre[['movie_id'] + use_genre_cols]\n",
    "df_genre2 = convert_onehot_to_category(df_genre, 'movie_id', use_genre_cols, category_col='genre')\n",
    "df_genre2 = df_genre2.groupby('movie_id').agg(list).reset_index()\n",
    "\n",
    "df2 = pd.merge(df_rating, df_item, on='movie_id')\n",
    "df2 = pd.merge(df2, df_genre2, on='movie_id')\n",
    "df2 = pd.merge(df2, df_user, on='user_id')\n",
    "\n",
    "\n",
    "\n",
    "links = pd.read_csv(\"C:/Users/91995/Downloads/archive/ml-100k/links.csv\")\n",
    "links = links.dropna()\n",
    "\n",
    "\n",
    "movies = pd.read_csv(\"C:/Users/91995/Downloads/archive/ml-100k/movies.csv\")\n",
    "movies.columns = ['movie_id2', 'movie_title', 'genres']\n",
    "\n",
    "\n",
    "df2 = df2.join(movies.set_index('movie_title'), on='movie_title')\n",
    "df2 = df2.drop(['occupation', 'zip_code', 'genres'], axis=1)\n",
    "df2 = df2.dropna()\n",
    "df2 = df2[df2['movie_id'].isin(links['movieId'].values)]"
   ]
  },
  {
   "cell_type": "code",
   "execution_count": 51,
   "id": "9b557bc1",
   "metadata": {},
   "outputs": [],
   "source": [
    "matrix_id = df2.pivot_table(index='user_id', columns='movie_id', values='rating')"
   ]
  },
  {
   "cell_type": "code",
   "execution_count": 58,
   "id": "a90c1a0e",
   "metadata": {},
   "outputs": [
    {
     "data": {
      "text/plain": [
       "<surprise.prediction_algorithms.matrix_factorization.SVD at 0x2a104ae8b20>"
      ]
     },
     "execution_count": 58,
     "metadata": {},
     "output_type": "execute_result"
    }
   ],
   "source": [
    "from surprise import SVD\n",
    "from surprise import Dataset, Reader, NormalPredictor\n",
    "from surprise.model_selection import train_test_split\n",
    "from surprise.model_selection import GridSearchCV\n",
    "\n",
    "reader = Reader(rating_scale=(1, 5))\n",
    "data = Dataset.load_from_df(df_rating, reader)\n",
    "trainData, testData = train_test_split(data, test_size=0.2, random_state=1)\n",
    "\n",
    "model = SVD()\n",
    "model.fit(trainData)"
   ]
  },
  {
   "cell_type": "code",
   "execution_count": 59,
   "id": "cd545bea",
   "metadata": {},
   "outputs": [],
   "source": [
    "import math\n",
    "\n",
    "def recommend(uid):\n",
    "    movies_unwatched = []\n",
    "    temp = matrix_id.loc[uid]\n",
    "    \n",
    "    for a, b in temp.iteritems():\n",
    "        if math.isnan(b):\n",
    "            movies_unwatched.append([a, model.predict(uid, a).est])\n",
    "    \n",
    "    movies_unwatched = sorted(movies_unwatched, key = lambda x: x[1], reverse=True)\n",
    "    \n",
    "    return movies_unwatched"
   ]
  },
  {
   "cell_type": "code",
   "execution_count": 60,
   "id": "04917e4a",
   "metadata": {},
   "outputs": [
    {
     "name": "stdout",
     "output_type": "stream",
     "text": [
      "318\n",
      "173\n",
      "483\n",
      "98\n",
      "64\n",
      "963\n",
      "22\n",
      "520\n",
      "427\n",
      "187\n",
      "56\n",
      "114\n",
      "1137\n",
      "178\n",
      "134\n",
      "[314    278.0\n",
      "Name: tmdbId, dtype: float64, 171    9482.0\n",
      "Name: tmdbId, dtype: float64, 478    34024.0\n",
      "Name: tmdbId, dtype: float64, 96    45549.0\n",
      "Name: tmdbId, dtype: float64, 63    19760.0\n",
      "Name: tmdbId, dtype: float64, 942    40206.0\n",
      "Name: tmdbId, dtype: float64, 21    1710.0\n",
      "Name: tmdbId, dtype: float64, 515    8005.0\n",
      "Name: tmdbId, dtype: float64, 422    18215.0\n",
      "Name: tmdbId, dtype: float64, 185    36196.0\n",
      "Name: tmdbId, dtype: float64, 55    124057.0\n",
      "Name: tmdbId, dtype: float64, 112    71754.0\n",
      "Name: tmdbId, dtype: float64, 1109    44497.0\n",
      "Name: tmdbId, dtype: float64, 176    15730.0\n",
      "Name: tmdbId, dtype: float64, 132    124636.0\n",
      "Name: tmdbId, dtype: float64]\n"
     ]
    }
   ],
   "source": [
    "recommendations = []\n",
    "movies_unwatched = recommend(2)\n",
    "for i in range(15):\n",
    "    print(movies_unwatched[i][0])\n",
    "    recommendations.append(links[links['movieId']==movies_unwatched[i][0]].tmdbId)\n",
    "\n",
    "print(recommendations)"
   ]
  },
  {
   "cell_type": "code",
   "execution_count": null,
   "id": "90e467f7",
   "metadata": {},
   "outputs": [],
   "source": []
  }
 ],
 "metadata": {
  "kernelspec": {
   "display_name": "Python 3 (ipykernel)",
   "language": "python",
   "name": "python3"
  },
  "language_info": {
   "codemirror_mode": {
    "name": "ipython",
    "version": 3
   },
   "file_extension": ".py",
   "mimetype": "text/x-python",
   "name": "python",
   "nbconvert_exporter": "python",
   "pygments_lexer": "ipython3",
   "version": "3.9.12"
  }
 },
 "nbformat": 4,
 "nbformat_minor": 5
}
