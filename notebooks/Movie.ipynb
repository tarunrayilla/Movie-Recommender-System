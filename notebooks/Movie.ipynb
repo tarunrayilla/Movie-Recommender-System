{
 "cells": [
  {
   "cell_type": "code",
   "execution_count": 1,
   "id": "97a4ac59",
   "metadata": {},
   "outputs": [],
   "source": [
    "import pandas as pd\n",
    "import numpy as np"
   ]
  },
  {
   "cell_type": "code",
   "execution_count": 2,
   "id": "9e697404",
   "metadata": {},
   "outputs": [
    {
     "data": {
      "text/html": [
       "<div>\n",
       "<style scoped>\n",
       "    .dataframe tbody tr th:only-of-type {\n",
       "        vertical-align: middle;\n",
       "    }\n",
       "\n",
       "    .dataframe tbody tr th {\n",
       "        vertical-align: top;\n",
       "    }\n",
       "\n",
       "    .dataframe thead th {\n",
       "        text-align: right;\n",
       "    }\n",
       "</style>\n",
       "<table border=\"1\" class=\"dataframe\">\n",
       "  <thead>\n",
       "    <tr style=\"text-align: right;\">\n",
       "      <th></th>\n",
       "      <th>user_id</th>\n",
       "      <th>movie_id</th>\n",
       "      <th>rating</th>\n",
       "      <th>timestamp</th>\n",
       "    </tr>\n",
       "  </thead>\n",
       "  <tbody>\n",
       "    <tr>\n",
       "      <th>0</th>\n",
       "      <td>186</td>\n",
       "      <td>302</td>\n",
       "      <td>3</td>\n",
       "      <td>891717742</td>\n",
       "    </tr>\n",
       "    <tr>\n",
       "      <th>1</th>\n",
       "      <td>22</td>\n",
       "      <td>377</td>\n",
       "      <td>1</td>\n",
       "      <td>878887116</td>\n",
       "    </tr>\n",
       "    <tr>\n",
       "      <th>2</th>\n",
       "      <td>244</td>\n",
       "      <td>51</td>\n",
       "      <td>2</td>\n",
       "      <td>880606923</td>\n",
       "    </tr>\n",
       "    <tr>\n",
       "      <th>3</th>\n",
       "      <td>166</td>\n",
       "      <td>346</td>\n",
       "      <td>1</td>\n",
       "      <td>886397596</td>\n",
       "    </tr>\n",
       "    <tr>\n",
       "      <th>4</th>\n",
       "      <td>298</td>\n",
       "      <td>474</td>\n",
       "      <td>4</td>\n",
       "      <td>884182806</td>\n",
       "    </tr>\n",
       "    <tr>\n",
       "      <th>...</th>\n",
       "      <td>...</td>\n",
       "      <td>...</td>\n",
       "      <td>...</td>\n",
       "      <td>...</td>\n",
       "    </tr>\n",
       "    <tr>\n",
       "      <th>99994</th>\n",
       "      <td>880</td>\n",
       "      <td>476</td>\n",
       "      <td>3</td>\n",
       "      <td>880175444</td>\n",
       "    </tr>\n",
       "    <tr>\n",
       "      <th>99995</th>\n",
       "      <td>716</td>\n",
       "      <td>204</td>\n",
       "      <td>5</td>\n",
       "      <td>879795543</td>\n",
       "    </tr>\n",
       "    <tr>\n",
       "      <th>99996</th>\n",
       "      <td>276</td>\n",
       "      <td>1090</td>\n",
       "      <td>1</td>\n",
       "      <td>874795795</td>\n",
       "    </tr>\n",
       "    <tr>\n",
       "      <th>99997</th>\n",
       "      <td>13</td>\n",
       "      <td>225</td>\n",
       "      <td>2</td>\n",
       "      <td>882399156</td>\n",
       "    </tr>\n",
       "    <tr>\n",
       "      <th>99998</th>\n",
       "      <td>12</td>\n",
       "      <td>203</td>\n",
       "      <td>3</td>\n",
       "      <td>879959583</td>\n",
       "    </tr>\n",
       "  </tbody>\n",
       "</table>\n",
       "<p>99999 rows × 4 columns</p>\n",
       "</div>"
      ],
      "text/plain": [
       "       user_id  movie_id  rating  timestamp\n",
       "0          186       302       3  891717742\n",
       "1           22       377       1  878887116\n",
       "2          244        51       2  880606923\n",
       "3          166       346       1  886397596\n",
       "4          298       474       4  884182806\n",
       "...        ...       ...     ...        ...\n",
       "99994      880       476       3  880175444\n",
       "99995      716       204       5  879795543\n",
       "99996      276      1090       1  874795795\n",
       "99997       13       225       2  882399156\n",
       "99998       12       203       3  879959583\n",
       "\n",
       "[99999 rows x 4 columns]"
      ]
     },
     "execution_count": 2,
     "metadata": {},
     "output_type": "execute_result"
    }
   ],
   "source": [
    "df_rating = pd.read_csv(\"C:/Users/91995/Downloads/archive/ml-100k/u.data\", sep=\"\\t\")\n",
    "df_rating.columns = ['user_id', 'movie_id', 'rating', 'timestamp']\n",
    "df_rating"
   ]
  },
  {
   "cell_type": "code",
   "execution_count": 3,
   "id": "a5db86ac",
   "metadata": {},
   "outputs": [
    {
     "data": {
      "text/plain": [
       "1682"
      ]
     },
     "execution_count": 3,
     "metadata": {},
     "output_type": "execute_result"
    }
   ],
   "source": [
    "len(df_rating['movie_id'].unique())"
   ]
  },
  {
   "cell_type": "code",
   "execution_count": 4,
   "id": "1bb1e07d",
   "metadata": {},
   "outputs": [
    {
     "data": {
      "text/html": [
       "<div>\n",
       "<style scoped>\n",
       "    .dataframe tbody tr th:only-of-type {\n",
       "        vertical-align: middle;\n",
       "    }\n",
       "\n",
       "    .dataframe tbody tr th {\n",
       "        vertical-align: top;\n",
       "    }\n",
       "\n",
       "    .dataframe thead th {\n",
       "        text-align: right;\n",
       "    }\n",
       "</style>\n",
       "<table border=\"1\" class=\"dataframe\">\n",
       "  <thead>\n",
       "    <tr style=\"text-align: right;\">\n",
       "      <th></th>\n",
       "      <th>user_id</th>\n",
       "      <th>movie_id</th>\n",
       "      <th>rating</th>\n",
       "    </tr>\n",
       "  </thead>\n",
       "  <tbody>\n",
       "    <tr>\n",
       "      <th>0</th>\n",
       "      <td>186</td>\n",
       "      <td>302</td>\n",
       "      <td>3</td>\n",
       "    </tr>\n",
       "    <tr>\n",
       "      <th>1</th>\n",
       "      <td>22</td>\n",
       "      <td>377</td>\n",
       "      <td>1</td>\n",
       "    </tr>\n",
       "    <tr>\n",
       "      <th>2</th>\n",
       "      <td>244</td>\n",
       "      <td>51</td>\n",
       "      <td>2</td>\n",
       "    </tr>\n",
       "    <tr>\n",
       "      <th>3</th>\n",
       "      <td>166</td>\n",
       "      <td>346</td>\n",
       "      <td>1</td>\n",
       "    </tr>\n",
       "    <tr>\n",
       "      <th>4</th>\n",
       "      <td>298</td>\n",
       "      <td>474</td>\n",
       "      <td>4</td>\n",
       "    </tr>\n",
       "    <tr>\n",
       "      <th>...</th>\n",
       "      <td>...</td>\n",
       "      <td>...</td>\n",
       "      <td>...</td>\n",
       "    </tr>\n",
       "    <tr>\n",
       "      <th>99994</th>\n",
       "      <td>880</td>\n",
       "      <td>476</td>\n",
       "      <td>3</td>\n",
       "    </tr>\n",
       "    <tr>\n",
       "      <th>99995</th>\n",
       "      <td>716</td>\n",
       "      <td>204</td>\n",
       "      <td>5</td>\n",
       "    </tr>\n",
       "    <tr>\n",
       "      <th>99996</th>\n",
       "      <td>276</td>\n",
       "      <td>1090</td>\n",
       "      <td>1</td>\n",
       "    </tr>\n",
       "    <tr>\n",
       "      <th>99997</th>\n",
       "      <td>13</td>\n",
       "      <td>225</td>\n",
       "      <td>2</td>\n",
       "    </tr>\n",
       "    <tr>\n",
       "      <th>99998</th>\n",
       "      <td>12</td>\n",
       "      <td>203</td>\n",
       "      <td>3</td>\n",
       "    </tr>\n",
       "  </tbody>\n",
       "</table>\n",
       "<p>99999 rows × 3 columns</p>\n",
       "</div>"
      ],
      "text/plain": [
       "       user_id  movie_id  rating\n",
       "0          186       302       3\n",
       "1           22       377       1\n",
       "2          244        51       2\n",
       "3          166       346       1\n",
       "4          298       474       4\n",
       "...        ...       ...     ...\n",
       "99994      880       476       3\n",
       "99995      716       204       5\n",
       "99996      276      1090       1\n",
       "99997       13       225       2\n",
       "99998       12       203       3\n",
       "\n",
       "[99999 rows x 3 columns]"
      ]
     },
     "execution_count": 4,
     "metadata": {},
     "output_type": "execute_result"
    }
   ],
   "source": [
    "df_rating = df_rating.drop(['timestamp'], axis=1)\n",
    "df_rating"
   ]
  },
  {
   "cell_type": "code",
   "execution_count": 5,
   "id": "6568e2bb",
   "metadata": {},
   "outputs": [
    {
     "data": {
      "text/html": [
       "<div>\n",
       "<style scoped>\n",
       "    .dataframe tbody tr th:only-of-type {\n",
       "        vertical-align: middle;\n",
       "    }\n",
       "\n",
       "    .dataframe tbody tr th {\n",
       "        vertical-align: top;\n",
       "    }\n",
       "\n",
       "    .dataframe thead th {\n",
       "        text-align: right;\n",
       "    }\n",
       "</style>\n",
       "<table border=\"1\" class=\"dataframe\">\n",
       "  <thead>\n",
       "    <tr style=\"text-align: right;\">\n",
       "      <th></th>\n",
       "      <th>user_id</th>\n",
       "      <th>movie_id</th>\n",
       "      <th>rating</th>\n",
       "    </tr>\n",
       "  </thead>\n",
       "  <tbody>\n",
       "    <tr>\n",
       "      <th>0</th>\n",
       "      <td>186</td>\n",
       "      <td>302</td>\n",
       "      <td>3</td>\n",
       "    </tr>\n",
       "    <tr>\n",
       "      <th>1</th>\n",
       "      <td>22</td>\n",
       "      <td>377</td>\n",
       "      <td>1</td>\n",
       "    </tr>\n",
       "    <tr>\n",
       "      <th>2</th>\n",
       "      <td>244</td>\n",
       "      <td>51</td>\n",
       "      <td>2</td>\n",
       "    </tr>\n",
       "    <tr>\n",
       "      <th>3</th>\n",
       "      <td>166</td>\n",
       "      <td>346</td>\n",
       "      <td>1</td>\n",
       "    </tr>\n",
       "    <tr>\n",
       "      <th>4</th>\n",
       "      <td>298</td>\n",
       "      <td>474</td>\n",
       "      <td>4</td>\n",
       "    </tr>\n",
       "    <tr>\n",
       "      <th>...</th>\n",
       "      <td>...</td>\n",
       "      <td>...</td>\n",
       "      <td>...</td>\n",
       "    </tr>\n",
       "    <tr>\n",
       "      <th>99994</th>\n",
       "      <td>880</td>\n",
       "      <td>476</td>\n",
       "      <td>3</td>\n",
       "    </tr>\n",
       "    <tr>\n",
       "      <th>99995</th>\n",
       "      <td>716</td>\n",
       "      <td>204</td>\n",
       "      <td>5</td>\n",
       "    </tr>\n",
       "    <tr>\n",
       "      <th>99996</th>\n",
       "      <td>276</td>\n",
       "      <td>1090</td>\n",
       "      <td>1</td>\n",
       "    </tr>\n",
       "    <tr>\n",
       "      <th>99997</th>\n",
       "      <td>13</td>\n",
       "      <td>225</td>\n",
       "      <td>2</td>\n",
       "    </tr>\n",
       "    <tr>\n",
       "      <th>99998</th>\n",
       "      <td>12</td>\n",
       "      <td>203</td>\n",
       "      <td>3</td>\n",
       "    </tr>\n",
       "  </tbody>\n",
       "</table>\n",
       "<p>99999 rows × 3 columns</p>\n",
       "</div>"
      ],
      "text/plain": [
       "       user_id  movie_id  rating\n",
       "0          186       302       3\n",
       "1           22       377       1\n",
       "2          244        51       2\n",
       "3          166       346       1\n",
       "4          298       474       4\n",
       "...        ...       ...     ...\n",
       "99994      880       476       3\n",
       "99995      716       204       5\n",
       "99996      276      1090       1\n",
       "99997       13       225       2\n",
       "99998       12       203       3\n",
       "\n",
       "[99999 rows x 3 columns]"
      ]
     },
     "execution_count": 5,
     "metadata": {},
     "output_type": "execute_result"
    }
   ],
   "source": [
    "df_rating"
   ]
  },
  {
   "cell_type": "code",
   "execution_count": null,
   "id": "2e1e8cf9",
   "metadata": {},
   "outputs": [],
   "source": [
    "len(df_rating.loc[(df_rating['user_id']==186) & (df_rating['movie_id']==302)])"
   ]
  },
  {
   "cell_type": "code",
   "execution_count": null,
   "id": "3c05f41a",
   "metadata": {},
   "outputs": [],
   "source": [
    "#df_rating.loc[(df_rating['user_id']==186) & (df_rating['movie_id']==302), 'rating'] = 4\n",
    "# df_rating.loc[len(df_rating.index)] = [500, 500, 3]\n",
    "df_rating.tail(10)"
   ]
  },
  {
   "cell_type": "code",
   "execution_count": null,
   "id": "15b32ad5",
   "metadata": {},
   "outputs": [],
   "source": [
    "rating_counts = df_rating.groupby('user_id')['rating'].count()\n",
    "rating_counts"
   ]
  },
  {
   "cell_type": "code",
   "execution_count": null,
   "id": "d28ffdb2",
   "metadata": {},
   "outputs": [],
   "source": [
    "print(max(rating_counts.values))"
   ]
  },
  {
   "cell_type": "code",
   "execution_count": null,
   "id": "0265a8c2",
   "metadata": {},
   "outputs": [],
   "source": [
    "import matplotlib.pyplot as plt\n",
    "\n",
    "plt.plot(rating_counts.index, rating_counts.values)\n",
    "plt.xlabel('user')\n",
    "plt.ylabel('no of ratings')\n",
    "plt.show()"
   ]
  },
  {
   "cell_type": "code",
   "execution_count": null,
   "id": "d1f79003",
   "metadata": {},
   "outputs": [],
   "source": [
    "df_rating2 = df_rating.groupby('user_id').filter(lambda x: len(x) >= 270)\n",
    "df_rating2"
   ]
  },
  {
   "cell_type": "code",
   "execution_count": null,
   "id": "90dc285b",
   "metadata": {},
   "outputs": [],
   "source": [
    "df_user = pd.read_csv('C:/Users/91995/Downloads/archive/ml-100k/u.user', sep='|', header=None)\n",
    "df_user.columns = ['user_id', 'age', 'gender', 'occupation', 'zip_code']\n",
    "df_user"
   ]
  },
  {
   "cell_type": "code",
   "execution_count": null,
   "id": "19146ee1",
   "metadata": {},
   "outputs": [],
   "source": [
    "from sklearn.preprocessing import LabelEncoder\n",
    "\n",
    "en = LabelEncoder()\n",
    "df_user['gender'] = en.fit_transform(df_user['gender'])\n",
    "df_user"
   ]
  },
  {
   "cell_type": "code",
   "execution_count": null,
   "id": "368f3399",
   "metadata": {},
   "outputs": [],
   "source": [
    "item_cols = ['movie_id', 'movie_title', 'release_date', 'video_release_date', 'imdb_url']\n",
    "genre_cols = ['unknown', 'action', 'adventure', 'animation', 'children', 'comedy', 'crime', 'documentary',\n",
    "              'drama','fantasy', 'film_noir', 'horror', 'musical', 'mystery', 'romance', 'sci_fi', 'thriller', \n",
    "              'war','western']\n",
    "\n",
    "df_item_genre = pd.read_csv('C:/Users/91995/Downloads/archive/ml-100k/u.item', sep='|',encoding='latin-1')\n",
    "df_item_genre.columns = item_cols + genre_cols\n",
    "df_item_genre"
   ]
  },
  {
   "cell_type": "code",
   "execution_count": null,
   "id": "a10cd901",
   "metadata": {},
   "outputs": [],
   "source": [
    "len(df_item_genre['movie_title'].unique())"
   ]
  },
  {
   "cell_type": "code",
   "execution_count": null,
   "id": "eaaf4937",
   "metadata": {},
   "outputs": [],
   "source": [
    "df_item_genre['movie_title'].isnull().sum()"
   ]
  },
  {
   "cell_type": "code",
   "execution_count": null,
   "id": "c6f13511",
   "metadata": {},
   "outputs": [],
   "source": [
    "df_item = df_item_genre[item_cols]\n",
    "df_item"
   ]
  },
  {
   "cell_type": "code",
   "execution_count": null,
   "id": "121e000b",
   "metadata": {},
   "outputs": [],
   "source": [
    "df_genre = df_item_genre[['movie_id'] + genre_cols]\n",
    "df_genre"
   ]
  },
  {
   "cell_type": "code",
   "execution_count": null,
   "id": "92339e05",
   "metadata": {},
   "outputs": [],
   "source": [
    "def convert_onehot_to_category(df, id_col, one_hot_columns, category_col='category'):\n",
    "    df_concat = pd.DataFrame(columns=[id_col, category_col])\n",
    "    for col in one_hot_columns:\n",
    "        df_each = df[df[col] >= 1][[id_col, col]]\n",
    "        df_each[col] = col\n",
    "\n",
    "        df_each.columns = [id_col, category_col]\n",
    "        df_concat = pd.concat([df_concat, df_each], axis=0)\n",
    "    df_concat = df_concat.drop_duplicates().reset_index(drop=True)\n",
    "    \n",
    "    return df_concat"
   ]
  },
  {
   "cell_type": "code",
   "execution_count": null,
   "id": "f9594bac",
   "metadata": {},
   "outputs": [],
   "source": [
    "use_item_cols = ['movie_id', 'movie_title', 'release_date']\n",
    "df_item = df_item[use_item_cols]\n",
    "\n",
    "#use_genre_cols = ['action', 'adventure', 'animation', 'children', 'comedy', 'crime', 'documentary', 'drama', 'fantasy', 'film_noir', 'horror', 'musical', 'mystery', 'romance', 'sci_fi', 'thriller','war','western']\n",
    "use_genre_cols = ['action', 'adventure', 'animation', 'children', 'comedy', 'crime', 'drama', 'horror', 'musical', 'mystery', 'romance', 'sci_fi', 'thriller']\n",
    "df_genre2 = df_genre[['movie_id'] + use_genre_cols]\n",
    "df_genre2"
   ]
  },
  {
   "cell_type": "code",
   "execution_count": null,
   "id": "082aa395",
   "metadata": {},
   "outputs": [],
   "source": [
    "df_item"
   ]
  },
  {
   "cell_type": "code",
   "execution_count": null,
   "id": "3776a76f",
   "metadata": {},
   "outputs": [],
   "source": [
    "df_genre2 = convert_onehot_to_category(df_genre, 'movie_id', use_genre_cols, category_col='genre')\n",
    "df_genre2"
   ]
  },
  {
   "cell_type": "code",
   "execution_count": null,
   "id": "f99bc837",
   "metadata": {},
   "outputs": [],
   "source": [
    "df_genre2 = df_genre2.groupby('movie_id').agg(list).reset_index()\n",
    "df_genre2"
   ]
  },
  {
   "cell_type": "code",
   "execution_count": null,
   "id": "4dc2fcc8",
   "metadata": {},
   "outputs": [],
   "source": [
    "df = pd.merge(df_rating, df_item, on='movie_id')\n",
    "df = pd.merge(df, df_genre, on='movie_id')\n",
    "df = pd.merge(df, df_user, on='user_id')\n",
    "df"
   ]
  },
  {
   "cell_type": "code",
   "execution_count": null,
   "id": "96889249",
   "metadata": {},
   "outputs": [],
   "source": [
    "df2 = pd.merge(df_rating, df_item, on='movie_id')\n",
    "df2 = pd.merge(df2, df_genre2, on='movie_id')\n",
    "df2 = pd.merge(df2, df_user, on='user_id')\n",
    "df2"
   ]
  },
  {
   "cell_type": "code",
   "execution_count": null,
   "id": "8bccdc43",
   "metadata": {},
   "outputs": [],
   "source": [
    "len(df2['movie_title'].unique())"
   ]
  },
  {
   "cell_type": "code",
   "execution_count": null,
   "id": "7b3a2e50",
   "metadata": {},
   "outputs": [],
   "source": [
    "df2['movie_title'].isnull().sum()"
   ]
  },
  {
   "cell_type": "code",
   "execution_count": null,
   "id": "c7331ff0",
   "metadata": {},
   "outputs": [],
   "source": [
    "df3 = pd.merge(df_rating2, df_item, on='movie_id')\n",
    "df3 = pd.merge(df3, df_genre, on='movie_id')\n",
    "df3 = pd.merge(df3, df_user, on='user_id')\n",
    "df3"
   ]
  },
  {
   "cell_type": "code",
   "execution_count": 6,
   "id": "1ea4e4c0",
   "metadata": {},
   "outputs": [
    {
     "data": {
      "text/html": [
       "<div>\n",
       "<style scoped>\n",
       "    .dataframe tbody tr th:only-of-type {\n",
       "        vertical-align: middle;\n",
       "    }\n",
       "\n",
       "    .dataframe tbody tr th {\n",
       "        vertical-align: top;\n",
       "    }\n",
       "\n",
       "    .dataframe thead th {\n",
       "        text-align: right;\n",
       "    }\n",
       "</style>\n",
       "<table border=\"1\" class=\"dataframe\">\n",
       "  <thead>\n",
       "    <tr style=\"text-align: right;\">\n",
       "      <th></th>\n",
       "      <th>movieId</th>\n",
       "      <th>imdbId</th>\n",
       "      <th>tmdbId</th>\n",
       "    </tr>\n",
       "  </thead>\n",
       "  <tbody>\n",
       "    <tr>\n",
       "      <th>0</th>\n",
       "      <td>1</td>\n",
       "      <td>114709</td>\n",
       "      <td>862.0</td>\n",
       "    </tr>\n",
       "    <tr>\n",
       "      <th>1</th>\n",
       "      <td>2</td>\n",
       "      <td>113497</td>\n",
       "      <td>8844.0</td>\n",
       "    </tr>\n",
       "    <tr>\n",
       "      <th>2</th>\n",
       "      <td>3</td>\n",
       "      <td>113228</td>\n",
       "      <td>15602.0</td>\n",
       "    </tr>\n",
       "    <tr>\n",
       "      <th>3</th>\n",
       "      <td>4</td>\n",
       "      <td>114885</td>\n",
       "      <td>31357.0</td>\n",
       "    </tr>\n",
       "    <tr>\n",
       "      <th>4</th>\n",
       "      <td>5</td>\n",
       "      <td>113041</td>\n",
       "      <td>11862.0</td>\n",
       "    </tr>\n",
       "    <tr>\n",
       "      <th>...</th>\n",
       "      <td>...</td>\n",
       "      <td>...</td>\n",
       "      <td>...</td>\n",
       "    </tr>\n",
       "    <tr>\n",
       "      <th>62418</th>\n",
       "      <td>209157</td>\n",
       "      <td>6671244</td>\n",
       "      <td>499546.0</td>\n",
       "    </tr>\n",
       "    <tr>\n",
       "      <th>62419</th>\n",
       "      <td>209159</td>\n",
       "      <td>297986</td>\n",
       "      <td>63407.0</td>\n",
       "    </tr>\n",
       "    <tr>\n",
       "      <th>62420</th>\n",
       "      <td>209163</td>\n",
       "      <td>6755366</td>\n",
       "      <td>553036.0</td>\n",
       "    </tr>\n",
       "    <tr>\n",
       "      <th>62421</th>\n",
       "      <td>209169</td>\n",
       "      <td>249603</td>\n",
       "      <td>162892.0</td>\n",
       "    </tr>\n",
       "    <tr>\n",
       "      <th>62422</th>\n",
       "      <td>209171</td>\n",
       "      <td>55323</td>\n",
       "      <td>79513.0</td>\n",
       "    </tr>\n",
       "  </tbody>\n",
       "</table>\n",
       "<p>62423 rows × 3 columns</p>\n",
       "</div>"
      ],
      "text/plain": [
       "       movieId   imdbId    tmdbId\n",
       "0            1   114709     862.0\n",
       "1            2   113497    8844.0\n",
       "2            3   113228   15602.0\n",
       "3            4   114885   31357.0\n",
       "4            5   113041   11862.0\n",
       "...        ...      ...       ...\n",
       "62418   209157  6671244  499546.0\n",
       "62419   209159   297986   63407.0\n",
       "62420   209163  6755366  553036.0\n",
       "62421   209169   249603  162892.0\n",
       "62422   209171    55323   79513.0\n",
       "\n",
       "[62423 rows x 3 columns]"
      ]
     },
     "execution_count": 6,
     "metadata": {},
     "output_type": "execute_result"
    }
   ],
   "source": [
    "links = pd.read_csv(\"C:/Users/91995/Downloads/archive/ml-100k/links.csv\")\n",
    "links"
   ]
  },
  {
   "cell_type": "code",
   "execution_count": null,
   "id": "5d3ad869",
   "metadata": {},
   "outputs": [],
   "source": [
    "links[links['tmdbId'] == 261246]"
   ]
  },
  {
   "cell_type": "code",
   "execution_count": null,
   "id": "cc5e55e4",
   "metadata": {},
   "outputs": [],
   "source": [
    "len(links['movieId'].unique())"
   ]
  },
  {
   "cell_type": "code",
   "execution_count": null,
   "id": "0a3e9d1a",
   "metadata": {},
   "outputs": [],
   "source": [
    "links = links.dropna()\n",
    "links"
   ]
  },
  {
   "cell_type": "code",
   "execution_count": null,
   "id": "e83c9042",
   "metadata": {},
   "outputs": [],
   "source": [
    "movies = pd.read_csv(\"C:/Users/91995/Downloads/archive/ml-100k/movies.csv\")\n",
    "movies.columns = ['movie_id2', 'movie_title', 'genres']\n",
    "movies"
   ]
  },
  {
   "cell_type": "code",
   "execution_count": null,
   "id": "9b8a36ac",
   "metadata": {},
   "outputs": [],
   "source": [
    "df = df.join(movies.set_index('movie_title'), on='movie_title')\n",
    "df"
   ]
  },
  {
   "cell_type": "code",
   "execution_count": null,
   "id": "ef71997f",
   "metadata": {},
   "outputs": [],
   "source": [
    "df2 = df2.join(movies.set_index('movie_title'), on='movie_title')\n",
    "df2"
   ]
  },
  {
   "cell_type": "code",
   "execution_count": null,
   "id": "2b2aa3f1",
   "metadata": {},
   "outputs": [],
   "source": [
    "df2['movie_id'].isnull().sum()"
   ]
  },
  {
   "cell_type": "code",
   "execution_count": null,
   "id": "b5bf6b03",
   "metadata": {},
   "outputs": [],
   "source": [
    "df3 = df3.join(movies.set_index('movie_title'), on='movie_title')\n",
    "df3"
   ]
  },
  {
   "cell_type": "code",
   "execution_count": null,
   "id": "8d1e7c1b",
   "metadata": {},
   "outputs": [],
   "source": [
    "df = df.drop(['occupation', 'zip_code', 'genres'], axis=1)"
   ]
  },
  {
   "cell_type": "code",
   "execution_count": null,
   "id": "c631ddad",
   "metadata": {},
   "outputs": [],
   "source": [
    "df"
   ]
  },
  {
   "cell_type": "code",
   "execution_count": null,
   "id": "b767f111",
   "metadata": {},
   "outputs": [],
   "source": [
    "df[df['movie_id']==1512]"
   ]
  },
  {
   "cell_type": "code",
   "execution_count": null,
   "id": "95cd4fc3",
   "metadata": {},
   "outputs": [],
   "source": [
    "df2 = df2.drop(['occupation', 'zip_code', 'genres'], axis=1)\n",
    "df2"
   ]
  },
  {
   "cell_type": "code",
   "execution_count": null,
   "id": "2cd075e9",
   "metadata": {},
   "outputs": [],
   "source": [
    "df3 = df3.drop(['occupation', 'zip_code', 'genres'], axis=1)\n",
    "df3"
   ]
  },
  {
   "cell_type": "code",
   "execution_count": null,
   "id": "3de3ecad",
   "metadata": {},
   "outputs": [],
   "source": [
    "df = df.dropna()\n",
    "df"
   ]
  },
  {
   "cell_type": "code",
   "execution_count": null,
   "id": "77dbc44c",
   "metadata": {},
   "outputs": [],
   "source": [
    "df = df.drop(['unknown', 'documentary', 'fantasy', 'film_noir', 'war', 'western'], axis=1)\n",
    "df"
   ]
  },
  {
   "cell_type": "code",
   "execution_count": null,
   "id": "37ce2cfa",
   "metadata": {},
   "outputs": [],
   "source": [
    "df2 = df2.dropna()\n",
    "df2"
   ]
  },
  {
   "cell_type": "code",
   "execution_count": null,
   "id": "95653f38",
   "metadata": {},
   "outputs": [],
   "source": [
    "len(df2['movie_title'].unique())"
   ]
  },
  {
   "cell_type": "code",
   "execution_count": null,
   "id": "f0380d7c",
   "metadata": {},
   "outputs": [],
   "source": [
    "df3 = df3.dropna()\n",
    "df3"
   ]
  },
  {
   "cell_type": "code",
   "execution_count": null,
   "id": "47775a6c",
   "metadata": {},
   "outputs": [],
   "source": [
    "df3 = df3.drop(['unknown', 'documentary', 'fantasy', 'film_noir', 'war', 'western'], axis=1)\n",
    "df3"
   ]
  },
  {
   "cell_type": "code",
   "execution_count": null,
   "id": "0cb991d5",
   "metadata": {},
   "outputs": [],
   "source": [
    "df = df[df['movie_id'].isin(links['movieId'].values)]\n",
    "df"
   ]
  },
  {
   "cell_type": "code",
   "execution_count": null,
   "id": "7cf9ecc6",
   "metadata": {},
   "outputs": [],
   "source": [
    "q = df[df['movie_id2'].isin(links['tmdbId'].values)]\n",
    "q"
   ]
  },
  {
   "cell_type": "code",
   "execution_count": null,
   "id": "6e9e2f98",
   "metadata": {},
   "outputs": [],
   "source": [
    "df2 = df2[df2['movie_id'].isin(links['movieId'].values)]\n",
    "df2"
   ]
  },
  {
   "cell_type": "code",
   "execution_count": null,
   "id": "c7b644ae",
   "metadata": {},
   "outputs": [],
   "source": [
    "df3 = df3[df3['movie_id'].isin(links['movieId'].values)]\n",
    "df3"
   ]
  },
  {
   "cell_type": "code",
   "execution_count": null,
   "id": "767b48d7",
   "metadata": {},
   "outputs": [],
   "source": [
    "len(df3['movie_id'].unique())"
   ]
  },
  {
   "cell_type": "code",
   "execution_count": null,
   "id": "7ced00c8",
   "metadata": {},
   "outputs": [],
   "source": [
    "df.columns"
   ]
  },
  {
   "cell_type": "code",
   "execution_count": null,
   "id": "67e762c2",
   "metadata": {},
   "outputs": [],
   "source": [
    "def to_1D(series):\n",
    "    return pd.Series([x for _list in series for x in _list])\n",
    "\n",
    "print(to_1D(df2[\"genre\"]))\n",
    "print(to_1D(df2[\"genre\"]).value_counts())"
   ]
  },
  {
   "cell_type": "code",
   "execution_count": null,
   "id": "a92da7d7",
   "metadata": {},
   "outputs": [],
   "source": [
    "df.corr()"
   ]
  },
  {
   "cell_type": "code",
   "execution_count": null,
   "id": "fa91c09d",
   "metadata": {},
   "outputs": [],
   "source": [
    "df_cold = df3[['user_id','animation','comedy','crime', 'drama', 'musical', 'mystery', 'romance', 'sci_fi', 'thriller', 'age', 'gender','rating']]\n",
    "#df_cold = df[['crime','mystery', 'romance','age', 'gender','rating']]\n",
    "df_cold"
   ]
  },
  {
   "cell_type": "code",
   "execution_count": null,
   "id": "3b986a0a",
   "metadata": {},
   "outputs": [],
   "source": [
    "len(pd.unique(df_cold['user_id']))"
   ]
  },
  {
   "cell_type": "code",
   "execution_count": null,
   "id": "509839b8",
   "metadata": {},
   "outputs": [],
   "source": [
    "df_cold = df_cold.set_index('user_id')\n",
    "df_cold"
   ]
  },
  {
   "cell_type": "code",
   "execution_count": null,
   "id": "802e7d0d",
   "metadata": {},
   "outputs": [],
   "source": [
    "data_cold = df_cold.values\n",
    "\n",
    "x = data_cold[:, :-1]\n",
    "y = data_cold[:, -1]\n",
    "print('x',x)\n",
    "print('y',y)\n",
    "\n",
    "from sklearn.model_selection import train_test_split\n",
    "\n",
    "x_train, x_test, y_train, y_test = train_test_split(x, y, test_size=0.2, random_state=1)\n",
    "\n",
    "from sklearn.naive_bayes import GaussianNB\n",
    "gnb = GaussianNB()\n",
    "gnb.fit(x_train, y_train)\n",
    "  \n",
    "y_pred = gnb.predict(x_test)\n",
    "print('yp1',y_pred)\n",
    "\n",
    "\n",
    "from sklearn.metrics import mean_absolute_error\n",
    "from sklearn.metrics import accuracy_score\n",
    "\n",
    "mae = mean_absolute_error(y_test, y_pred)\n",
    "acc = accuracy_score(y_test, y_pred)\n",
    "print(mae)\n",
    "print(acc)\n",
    "\n",
    "\n",
    "from sklearn import tree\n",
    "\n",
    "dt = tree.DecisionTreeClassifier()\n",
    "dt = dt.fit(x_train, y_train)\n",
    "y_pred2 = dt.predict(x_test)\n",
    "print('yp2',y_pred2)\n",
    "print('yt2',y_test)\n",
    "\n",
    "\n",
    "mae = mean_absolute_error(y_test, y_pred2)\n",
    "acc = accuracy_score(y_test, y_pred2)\n",
    "print(mae)\n",
    "print(acc)\n",
    "\n",
    "# from sklearn.neighbors import KNeighborsRegressor\n",
    "\n",
    "# neigh = KNeighborsRegressor(n_neighbors=3)\n",
    "# neigh.fit(x_train, y_train)\n",
    "# y_pred3 = neigh.predict(x_test)\n",
    "# y_pred3\n",
    "\n",
    "# mae = mean_absolute_error(y_test, y_pred3)\n",
    "# acc = accuracy_score(y_test, y_pred3)\n",
    "# print(mae)\n",
    "# print(acc)"
   ]
  },
  {
   "cell_type": "code",
   "execution_count": null,
   "id": "ecb18da0",
   "metadata": {},
   "outputs": [],
   "source": [
    "from sklearn.ensemble import BaggingClassifier\n",
    "\n",
    "bc = BaggingClassifier()\n",
    "bc.fit(x_train, y_train)\n",
    "y_pred3 = bc.predict(x_test)\n",
    "\n",
    "mae = mean_absolute_error(y_test, y_pred3)\n",
    "acc = accuracy_score(y_test, y_pred3)\n",
    "print(mae)\n",
    "print(acc)"
   ]
  },
  {
   "cell_type": "code",
   "execution_count": null,
   "id": "ad49023b",
   "metadata": {},
   "outputs": [],
   "source": [
    "from sklearn.ensemble import GradientBoostingClassifier\n",
    "\n",
    "bc = GradientBoostingClassifier()\n",
    "bc.fit(x_train, y_train)\n",
    "y_pred4 = bc.predict(x_test)\n",
    "\n",
    "mae = mean_absolute_error(y_test, y_pred4)\n",
    "acc = accuracy_score(y_pred4, y_test)\n",
    "print(mae)\n",
    "print(acc)\n",
    "\n",
    "print('yp4',y_pred4)\n",
    "print('yt',y_test)"
   ]
  },
  {
   "cell_type": "code",
   "execution_count": null,
   "id": "b62adeec",
   "metadata": {},
   "outputs": [],
   "source": [
    "from sklearn.model_selection import GridSearchCV\n",
    "from sklearn.metrics import accuracy_score\n",
    "from sklearn.metrics import precision_score\n",
    "from sklearn.metrics import recall_score\n",
    "from sklearn.metrics import make_scorer\n",
    "#creating Scoring parameter: \n",
    "scoring = {'accuracy': make_scorer(accuracy_score),\n",
    "           'precision': make_scorer(precision_score),'recall':make_scorer(recall_score)}\n",
    "\n",
    "# parameters = {\n",
    "#     \"loss\":[\"deviance\"],\n",
    "#     \"learning_rate\": [0.01, 0.025, 0.05, 0.075, 0.1, 0.15, 0.2],\n",
    "#     \"min_samples_split\": np.linspace(0.1, 0.5, 12),\n",
    "#     \"min_samples_leaf\": np.linspace(0.1, 0.5, 12),\n",
    "#     \"max_depth\":[3,5,8],\n",
    "#     \"max_features\":[\"log2\",\"sqrt\"],\n",
    "#     \"criterion\": [\"friedman_mse\",  \"mae\"],\n",
    "#     \"subsample\":[0.5, 0.618, 0.8, 0.85, 0.9, 0.95, 1.0],\n",
    "#     \"n_estimators\":[10]\n",
    "# }\n",
    "\n",
    "parameters = {\n",
    "    \"n_estimators\": [10, 50, 100],\n",
    "    \"max_depth\": [3, 6, 9],\n",
    "    \"learning_rate\": [0.01, 0.01, 0.1, 0.5, 1]\n",
    "}\n",
    "\n",
    "gs = GridSearchCV(estimator=GradientBoostingClassifier(), param_grid=parameters, refit=True, cv=3)"
   ]
  },
  {
   "cell_type": "code",
   "execution_count": null,
   "id": "1223ddb9",
   "metadata": {},
   "outputs": [],
   "source": [
    "#gs.fit(x_train, y_train)"
   ]
  },
  {
   "cell_type": "code",
   "execution_count": null,
   "id": "30e68d55",
   "metadata": {},
   "outputs": [],
   "source": [
    "# from sklearn.svm import SVC\n",
    "\n",
    "# svc = SVC(kernel='linear', probability=True)\n",
    "# svc.fit(x_train, y_train)"
   ]
  },
  {
   "cell_type": "code",
   "execution_count": null,
   "id": "e3d2471c",
   "metadata": {},
   "outputs": [],
   "source": [
    "# pg = {'C':[0.1,1,10,100,1000], 'gamma':[1,0.1,0.01,0.001,0.0001]}\n",
    "\n",
    "# grid = GridSearchCV(model, param_grid=pg, cv=10)\n",
    "# grid.fit(x_train, y_train)\n",
    "\n",
    "# print('Best Hyperparameter: ',grid.best_params_)"
   ]
  },
  {
   "cell_type": "code",
   "execution_count": null,
   "id": "3f96e2c2",
   "metadata": {},
   "outputs": [],
   "source": [
    "# y_pred5 = svc.predict(x_test)\n",
    "\n",
    "# mae = mean_absolute_error(y_test, y_pred5)\n",
    "# acc = accuracy_score(y_pred5, y_test)\n",
    "# print(mae)\n",
    "# print(acc)\n",
    "\n",
    "# print('yp5',y_pred4)\n",
    "# print('yt',y_test)"
   ]
  },
  {
   "cell_type": "code",
   "execution_count": null,
   "id": "ef7358fd",
   "metadata": {},
   "outputs": [],
   "source": [
    "from sklearn.ensemble import GradientBoostingClassifier\n",
    "\n",
    "bc = GradientBoostingClassifier(n_estimators=100)\n",
    "bc.fit(x_train, y_train)\n",
    "y_pred4 = bc.predict(x_test)\n",
    "\n",
    "mae = mean_absolute_error(y_test, y_pred4)\n",
    "acc = accuracy_score(y_pred4, y_test)\n",
    "print(mae)\n",
    "print(acc)\n",
    "\n",
    "print('yp4',y_pred4)\n",
    "print('yt',y_test)"
   ]
  },
  {
   "cell_type": "code",
   "execution_count": null,
   "id": "0064928c",
   "metadata": {},
   "outputs": [],
   "source": [
    "from sklearn.ensemble import RandomForestClassifier\n",
    "\n",
    "bc = RandomForestClassifier()\n",
    "bc.fit(x_train, y_train)\n",
    "y_pred4 = bc.predict(x_test)\n",
    "\n",
    "mae = mean_absolute_error(y_test, y_pred4)\n",
    "acc = accuracy_score(y_pred4, y_test)\n",
    "print(mae)\n",
    "print(acc)\n",
    "\n",
    "print('yp4',y_pred4)\n",
    "print('yt',y_test)"
   ]
  },
  {
   "cell_type": "code",
   "execution_count": null,
   "id": "19f077b2",
   "metadata": {},
   "outputs": [],
   "source": [
    "df_cold2 = df_cold.copy()\n",
    "df_cold2"
   ]
  },
  {
   "cell_type": "code",
   "execution_count": null,
   "id": "4543e844",
   "metadata": {},
   "outputs": [],
   "source": [
    "df_cold2 = df_cold2[['comedy','crime', 'drama', 'romance', 'sci_fi', 'thriller', 'rating']]\n",
    "df_cold2"
   ]
  },
  {
   "cell_type": "code",
   "execution_count": null,
   "id": "be8bc696",
   "metadata": {},
   "outputs": [],
   "source": [
    "data_cold2 = df_cold2.values\n",
    "x = data_cold2[:, :-1]\n",
    "y = data_cold2[:, -1]\n",
    "print('x',x)\n",
    "print('y',y)\n",
    "\n",
    "x_train, x_test, y_train, y_test = train_test_split(x, y, test_size=0.2, random_state=1)\n",
    "\n",
    "from sklearn.naive_bayes import GaussianNB\n",
    "gnb = GaussianNB()\n",
    "gnb.fit(x_train, y_train)\n",
    "  \n",
    "y_pred = gnb.predict(x_test)\n",
    "print('yp1',y_pred)\n",
    "\n",
    "\n",
    "from sklearn.metrics import mean_absolute_error\n",
    "from sklearn.metrics import accuracy_score\n",
    "\n",
    "mae = mean_absolute_error(y_test, y_pred)\n",
    "acc = accuracy_score(y_test, y_pred)\n",
    "print(mae)\n",
    "print(acc)\n",
    "\n",
    "\n",
    "from sklearn import tree\n",
    "\n",
    "dt = tree.DecisionTreeClassifier()\n",
    "dt = dt.fit(x_train, y_train)\n",
    "y_pred2 = dt.predict(x_test)\n",
    "print('yp2',y_pred2)\n",
    "print('yt2',y_test)\n",
    "\n",
    "\n",
    "mae = mean_absolute_error(y_test, y_pred2)\n",
    "acc = accuracy_score(y_test, y_pred2)\n",
    "print(mae)\n",
    "print(acc)"
   ]
  },
  {
   "cell_type": "code",
   "execution_count": null,
   "id": "1a708165",
   "metadata": {},
   "outputs": [],
   "source": [
    "from sklearn.ensemble import GradientBoostingClassifier\n",
    "\n",
    "bc = GradientBoostingClassifier()\n",
    "bc.fit(x_train, y_train)\n",
    "y_pred4 = bc.predict(x_test)\n",
    "\n",
    "mae = mean_absolute_error(y_test, y_pred4)\n",
    "acc = accuracy_score(y_pred4, y_test)\n",
    "print(mae)\n",
    "print(acc)\n",
    "\n",
    "print('yp4',y_pred4)\n",
    "print('yt',y_test)"
   ]
  },
  {
   "cell_type": "code",
   "execution_count": null,
   "id": "cc42a597",
   "metadata": {},
   "outputs": [],
   "source": [
    "# from catboost import CatBoostClassifier\n",
    "\n",
    "# cb = CatBoostClassifier()\n",
    "# cb.fit(x_train, y_train)\n",
    "# y_pred6 = cb.predict(x_test)\n",
    "\n",
    "# mae = mean_absolute_error(y_test, y_pred6)\n",
    "# acc = accuracy_score(y_pred6, y_test)\n",
    "# print(mae)\n",
    "# print(acc)\n",
    "\n",
    "# print('yp6',y_pred6)\n",
    "# print('yt',y_test)"
   ]
  },
  {
   "cell_type": "code",
   "execution_count": null,
   "id": "5480d894",
   "metadata": {},
   "outputs": [],
   "source": [
    "from catboost import CatBoostClassifier"
   ]
  },
  {
   "cell_type": "code",
   "execution_count": null,
   "id": "94eb842b",
   "metadata": {},
   "outputs": [],
   "source": [
    "df_cold"
   ]
  },
  {
   "cell_type": "code",
   "execution_count": null,
   "id": "8d6202ff",
   "metadata": {},
   "outputs": [],
   "source": [
    "from sklearn.preprocessing import StandardScaler, MinMaxScaler\n",
    "\n",
    "scaler = MinMaxScaler()\n",
    "df_cold3 = df_cold.copy()\n",
    "print(df_cold3)\n",
    "temp = scaler.fit_transform([df_cold3['age']])\n",
    "print(temp)\n",
    "# x = data_cold3[:, :-1]\n",
    "# y = data_cold3[:, -1]\n",
    "# print('x',x)\n",
    "# print('y',y)\n"
   ]
  },
  {
   "cell_type": "code",
   "execution_count": null,
   "id": "1f30abc7",
   "metadata": {},
   "outputs": [],
   "source": [
    "df_cold3 =df_cold.copy()\n",
    "\n",
    "feature = df_cold3[['age']]\n",
    "\n",
    "# Initialize the scaler\n",
    "scaler = MinMaxScaler()\n",
    "\n",
    "# Fit and transform the feature using the scaler\n",
    "scaled_feature = scaler.fit_transform(feature)\n",
    "\n",
    "print(scaled_feature)\n",
    "\n",
    "df_cold3['age'] = scaled_feature\n",
    "\n",
    "print(df_cold3)"
   ]
  },
  {
   "cell_type": "code",
   "execution_count": null,
   "id": "5233989f",
   "metadata": {},
   "outputs": [],
   "source": [
    "from sklearn.model_selection import train_test_split\n",
    "\n",
    "data_cold3 = df_cold3.values\n",
    "x = data_cold3[:, :-1]\n",
    "y = data_cold3[:, -1]\n",
    "print('x',x)\n",
    "print('y',y)\n",
    "\n",
    "x_train, x_test, y_train, y_test = train_test_split(x, y)\n",
    "\n",
    "from sklearn.ensemble import GradientBoostingClassifier\n",
    "\n",
    "bc2 = GradientBoostingClassifier()\n",
    "bc2.fit(x_train, y_train)\n",
    "y_pred5 = bc2.predict(x_test)\n",
    "\n",
    "mae = mean_absolute_error(y_test, y_pred5)\n",
    "acc = accuracy_score(y_pred5, y_test)\n",
    "print(mae)\n",
    "print(acc)\n",
    "\n",
    "print('yp5',y_pred5)\n",
    "print('yt',y_test)"
   ]
  },
  {
   "cell_type": "code",
   "execution_count": null,
   "id": "3fb9e513",
   "metadata": {},
   "outputs": [],
   "source": [
    "# df_cold4 =df_cold.copy()\n",
    "\n",
    "# scaler = MinMaxScaler()\n",
    "\n",
    "# # Fit and transform all the features using the scaler\n",
    "# scaled_df = scaler.fit_transform(df_cold4)\n",
    "\n",
    "# # Replace the original dataframe with the scaled dataframe\n",
    "# df_cold4 = pd.DataFrame(scaled_df, columns=df_cold4.columns)\n",
    "\n",
    "# df_cold4['rating'] = df_cold['rating']\n"
   ]
  },
  {
   "cell_type": "code",
   "execution_count": null,
   "id": "dac195d9",
   "metadata": {},
   "outputs": [],
   "source": [
    "from sklearn.model_selection import train_test_split\n",
    "\n",
    "data_cold4 = df_cold.values\n",
    "x = data_cold4[:, :-1]\n",
    "y = data_cold4[:, -1]\n",
    "\n",
    "scaler = StandardScaler()\n",
    "x = scaler.fit_transform(x)\n",
    "\n",
    "print('x',x)\n",
    "print('y',y)\n",
    "\n",
    "x_train, x_test, y_train, y_test = train_test_split(x, y)\n",
    "\n",
    "from sklearn.ensemble import GradientBoostingClassifier\n",
    "\n",
    "bc3 = GradientBoostingClassifier()\n",
    "bc3.fit(x_train, y_train)\n",
    "y_pred6 = bc3.predict(x_test)\n",
    "\n",
    "mae = mean_absolute_error(y_test, y_pred6)\n",
    "acc = accuracy_score(y_pred6, y_test)\n",
    "print(mae)\n",
    "print(acc)\n",
    "\n",
    "print('yp5',y_pred6)\n",
    "print('yt',y_test)"
   ]
  },
  {
   "cell_type": "code",
   "execution_count": null,
   "id": "0048349b",
   "metadata": {},
   "outputs": [],
   "source": []
  },
  {
   "cell_type": "code",
   "execution_count": null,
   "id": "7ca1c566",
   "metadata": {},
   "outputs": [],
   "source": [
    "#User-Item Matrix \n",
    "\n",
    "matrix = df2.pivot_table(index='user_id', columns='movie_title', values='rating')\n",
    "matrix"
   ]
  },
  {
   "cell_type": "code",
   "execution_count": null,
   "id": "72f37ff7",
   "metadata": {},
   "outputs": [],
   "source": [
    "#User-Item Matrix \n",
    "\n",
    "matrix_id = df2.pivot_table(index='user_id', columns='movie_id', values='rating')\n",
    "matrix_id"
   ]
  },
  {
   "cell_type": "code",
   "execution_count": null,
   "id": "7136a30c",
   "metadata": {},
   "outputs": [],
   "source": [
    "matrix_id_temp = df3.pivot_table(index='user_id', columns='movie_id', values='rating')\n",
    "matrix_id_temp"
   ]
  },
  {
   "cell_type": "code",
   "execution_count": null,
   "id": "02ecab27",
   "metadata": {},
   "outputs": [],
   "source": [
    "len(df2['movie_title'].unique())"
   ]
  },
  {
   "cell_type": "code",
   "execution_count": null,
   "id": "8c86696b",
   "metadata": {},
   "outputs": [],
   "source": [
    "len(df2['movie_id'].unique())"
   ]
  },
  {
   "cell_type": "code",
   "execution_count": null,
   "id": "2a0e3460",
   "metadata": {},
   "outputs": [],
   "source": [
    "# matrix_id.loc[950,:] = math.nan\n",
    "# matrix_id"
   ]
  },
  {
   "cell_type": "code",
   "execution_count": null,
   "id": "d5c31ecd",
   "metadata": {},
   "outputs": [],
   "source": [
    "# matrix_id.loc[950][8] = 4\n",
    "# matrix_id"
   ]
  },
  {
   "cell_type": "code",
   "execution_count": null,
   "id": "ef04c092",
   "metadata": {},
   "outputs": [],
   "source": [
    "951 in matrix_id.index"
   ]
  },
  {
   "cell_type": "code",
   "execution_count": null,
   "id": "12a671b1",
   "metadata": {},
   "outputs": [],
   "source": [
    "from surprise import SVD\n",
    "from surprise import Dataset, Reader, NormalPredictor\n",
    "from surprise import accuracy\n",
    "from surprise.model_selection import cross_validate, train_test_split\n",
    "\n",
    "reader = Reader(rating_scale=(1, 5))\n",
    "data = Dataset.load_from_df(df_rating, reader)\n",
    "data"
   ]
  },
  {
   "cell_type": "code",
   "execution_count": null,
   "id": "223c1073",
   "metadata": {},
   "outputs": [],
   "source": [
    "cross_validate(NormalPredictor(), data, cv=2)"
   ]
  },
  {
   "cell_type": "code",
   "execution_count": null,
   "id": "aed203ff",
   "metadata": {},
   "outputs": [],
   "source": [
    "trainData, testData = train_test_split(data, random_state=1)"
   ]
  },
  {
   "cell_type": "code",
   "execution_count": null,
   "id": "c9d6a7fc",
   "metadata": {},
   "outputs": [],
   "source": [
    "model = SVD()\n",
    "\n",
    "model.fit(trainData)"
   ]
  },
  {
   "cell_type": "code",
   "execution_count": null,
   "id": "e57cb416",
   "metadata": {},
   "outputs": [],
   "source": [
    "pred = model.test(testData)\n",
    "pred"
   ]
  },
  {
   "cell_type": "code",
   "execution_count": null,
   "id": "4f78995d",
   "metadata": {},
   "outputs": [],
   "source": [
    "accuracy.rmse(pred)"
   ]
  },
  {
   "cell_type": "code",
   "execution_count": null,
   "id": "cc1d74a2",
   "metadata": {},
   "outputs": [],
   "source": [
    "accuracy.mae(pred)"
   ]
  },
  {
   "cell_type": "code",
   "execution_count": null,
   "id": "4627031a",
   "metadata": {},
   "outputs": [],
   "source": [
    "cross_validate(model, data, cv=5)"
   ]
  },
  {
   "cell_type": "code",
   "execution_count": null,
   "id": "63110774",
   "metadata": {},
   "outputs": [],
   "source": [
    "# from surprise.model_selection import GridSearchCV\n",
    "\n",
    "# #param_grid = {\"n_epochs\": [5, 8, 10, 12], \"lr_all\": [0.002, 0.005, 0.007], \"reg_all\": [0.4, 0.6, 0.8]}\n",
    "# param_grid = {'n_epochs': [60, 80, 120, 150], 'lr_all': [.0025, .005, .001, .01], \"reg_all\": [0.4, 0.6, 0.8]}\n",
    "# gs = GridSearchCV(SVD, param_grid, measures=[\"rmse\", \"mae\"], cv=3)\n",
    "\n",
    "# gs.fit(data)\n",
    "\n",
    "# # best RMSE score\n",
    "# print(gs.best_score[\"rmse\"])\n",
    "\n",
    "# # combination of parameters that gave the best RMSE score\n",
    "# print(gs.best_params[\"rmse\"])"
   ]
  },
  {
   "cell_type": "code",
   "execution_count": null,
   "id": "d66d5a8a",
   "metadata": {},
   "outputs": [],
   "source": [
    "model = SVD(n_epochs=40, lr_all=0.012, reg_all=0.4)\n",
    "\n",
    "model.fit(trainData)"
   ]
  },
  {
   "cell_type": "code",
   "execution_count": null,
   "id": "b2b10807",
   "metadata": {},
   "outputs": [],
   "source": [
    "preds = model.test(testData)\n",
    "preds"
   ]
  },
  {
   "cell_type": "code",
   "execution_count": null,
   "id": "7b043503",
   "metadata": {},
   "outputs": [],
   "source": [
    "accuracy.rmse(preds)"
   ]
  },
  {
   "cell_type": "code",
   "execution_count": null,
   "id": "b988e449",
   "metadata": {},
   "outputs": [],
   "source": [
    "accuracy.mae(preds)"
   ]
  },
  {
   "cell_type": "code",
   "execution_count": null,
   "id": "fbedab8b",
   "metadata": {},
   "outputs": [],
   "source": [
    "cross_validate(model, data, measures=['rmse', 'mae'], cv=5)"
   ]
  },
  {
   "cell_type": "code",
   "execution_count": null,
   "id": "5b584667",
   "metadata": {},
   "outputs": [],
   "source": [
    "from surprise.model_selection import GridSearchCV\n",
    "\n",
    "param_grid = {\"n_epochs\": [5, 10], \"lr_all\": [0.002, 0.005], \"reg_all\": [0.4, 0.6]}\n",
    "gs = GridSearchCV(SVD, param_grid, measures=[\"rmse\", \"mae\"], cv=3)\n",
    "reader = Reader(rating_scale=(1, 5))\n",
    "data = Dataset.load_from_df(df_rating2, reader)\n",
    "\n",
    "gs.fit(data)\n",
    "\n",
    "# best RMSE score\n",
    "print(gs.best_score[\"rmse\"])\n",
    "\n",
    "# combination of parameters that gave the best RMSE score\n",
    "print(gs.best_params[\"rmse\"])"
   ]
  },
  {
   "cell_type": "code",
   "execution_count": null,
   "id": "44475c67",
   "metadata": {},
   "outputs": [],
   "source": [
    "trainData, testData = train_test_split(data, random_state=1)\n",
    "\n",
    "modelSVD2 = SVD()\n",
    "\n",
    "modelSVD2.fit(trainData)\n",
    "pred = modelSVD2.test(testData)\n",
    "\n",
    "print(accuracy.rmse(pred))\n",
    "\n",
    "print(cross_validate(modelSVD2, data, measures=['rmse', 'mae'], cv=5))"
   ]
  },
  {
   "cell_type": "code",
   "execution_count": null,
   "id": "8d3429e5",
   "metadata": {},
   "outputs": [],
   "source": [
    "uid = str(1)\n",
    "iid = str(10)\n",
    "\n",
    "pred = model.predict(uid, iid)"
   ]
  },
  {
   "cell_type": "code",
   "execution_count": null,
   "id": "26701d0b",
   "metadata": {},
   "outputs": [],
   "source": [
    "pred.est"
   ]
  },
  {
   "cell_type": "code",
   "execution_count": null,
   "id": "8b563be3",
   "metadata": {},
   "outputs": [],
   "source": [
    "temp = matrix_id.loc[2]\n",
    "temp"
   ]
  },
  {
   "cell_type": "code",
   "execution_count": null,
   "id": "0bc13668",
   "metadata": {},
   "outputs": [],
   "source": [
    "type(temp)"
   ]
  },
  {
   "cell_type": "code",
   "execution_count": null,
   "id": "9dbc5763",
   "metadata": {},
   "outputs": [],
   "source": [
    "import math\n",
    "\n",
    "def recommend(uid):\n",
    "    movies_unwatched = []\n",
    "    temp = matrix_id.loc[uid]\n",
    "    \n",
    "    for a, b in temp.iteritems():\n",
    "        if math.isnan(b):\n",
    "            movies_unwatched.append([a, round(model.predict(uid, a).est, 3)])\n",
    "    \n",
    "    movies_unwatched = sorted(movies_unwatched, key = lambda x: x[1], reverse=True)\n",
    "    \n",
    "    return movies_unwatched"
   ]
  },
  {
   "cell_type": "code",
   "execution_count": null,
   "id": "92e3ea79",
   "metadata": {},
   "outputs": [],
   "source": [
    "movies_unwatched = recommend(2)\n",
    "print(movies_unwatched)"
   ]
  },
  {
   "cell_type": "code",
   "execution_count": null,
   "id": "a5d896db",
   "metadata": {},
   "outputs": [],
   "source": [
    "from joblib import dump"
   ]
  },
  {
   "cell_type": "code",
   "execution_count": null,
   "id": "9463d666",
   "metadata": {},
   "outputs": [],
   "source": [
    "#dump(model, './../mlModels/model.joblib')"
   ]
  },
  {
   "cell_type": "code",
   "execution_count": null,
   "id": "faf0dd3b",
   "metadata": {},
   "outputs": [],
   "source": [
    "import pickle"
   ]
  },
  {
   "cell_type": "code",
   "execution_count": null,
   "id": "344d7a2e",
   "metadata": {},
   "outputs": [],
   "source": [
    "#pickle.dump(matrix_id, open('./../datafiles/matrix_id.pkl', 'wb'))"
   ]
  },
  {
   "cell_type": "code",
   "execution_count": null,
   "id": "8cb98733",
   "metadata": {},
   "outputs": [],
   "source": [
    "#pickle.dump(df_rating, open('./../datafiles/df_rating.pkl', 'wb'))"
   ]
  },
  {
   "cell_type": "code",
   "execution_count": null,
   "id": "0cbe052e",
   "metadata": {},
   "outputs": [],
   "source": [
    "links"
   ]
  },
  {
   "cell_type": "code",
   "execution_count": null,
   "id": "d2060d4a",
   "metadata": {},
   "outputs": [],
   "source": [
    "links[links['movieId']==318]"
   ]
  },
  {
   "cell_type": "code",
   "execution_count": null,
   "id": "be015dc2",
   "metadata": {},
   "outputs": [],
   "source": [
    "links[links['movieId']==318].tmdbId.item()"
   ]
  },
  {
   "cell_type": "code",
   "execution_count": null,
   "id": "44a99290",
   "metadata": {},
   "outputs": [],
   "source": [
    "movies_unwatched[0][0]"
   ]
  },
  {
   "cell_type": "code",
   "execution_count": null,
   "id": "8e6905c8",
   "metadata": {},
   "outputs": [],
   "source": [
    "recommendations = []\n",
    "for i in range(15):\n",
    "    print(movies_unwatched[i][0])\n",
    "    recommendations.append(links[links['movieId']==movies_unwatched[i][0]].tmdbId)\n",
    "\n",
    "print(recommendations)"
   ]
  },
  {
   "cell_type": "code",
   "execution_count": null,
   "id": "9afc071e",
   "metadata": {},
   "outputs": [],
   "source": []
  },
  {
   "cell_type": "code",
   "execution_count": null,
   "id": "96605b83",
   "metadata": {},
   "outputs": [],
   "source": [
    "print(recommendations[0])"
   ]
  },
  {
   "cell_type": "code",
   "execution_count": null,
   "id": "ffd056c1",
   "metadata": {},
   "outputs": [],
   "source": [
    "#pickle.dump(links, open('./../datafiles/links.pkl', 'wb'))"
   ]
  },
  {
   "cell_type": "code",
   "execution_count": null,
   "id": "a07670f1",
   "metadata": {},
   "outputs": [],
   "source": [
    "df_cold"
   ]
  },
  {
   "cell_type": "code",
   "execution_count": null,
   "id": "e373bf4b",
   "metadata": {},
   "outputs": [],
   "source": [
    "len(pd.unique(df_rating2['user_id']))"
   ]
  },
  {
   "cell_type": "code",
   "execution_count": null,
   "id": "89815e12",
   "metadata": {},
   "outputs": [],
   "source": [
    "data_cold = df_cold.values\n",
    "\n",
    "x = data_cold[:, :-1]\n",
    "y = data_cold[:, -1]\n",
    "print(x)\n",
    "print(y)\n",
    "\n",
    "from sklearn import tree\n",
    "\n",
    "model2 = tree.DecisionTreeClassifier()\n",
    "model2 = model2.fit(x, y)\n",
    "x_test = np.array([[1, 0, 1, 0, 0, 1, 0, 1, 1, 21, 1]])\n",
    "y_pred2 = model2.predict(x_test)\n",
    "print(y_pred2)"
   ]
  },
  {
   "cell_type": "code",
   "execution_count": null,
   "id": "f7740dca",
   "metadata": {},
   "outputs": [],
   "source": [
    "new_user = np.array([[1, 0, 1, 0, 0, 1, 0, 1, 1, 21, 1, 2]])\n",
    "new_user"
   ]
  },
  {
   "cell_type": "code",
   "execution_count": null,
   "id": "62f8ac70",
   "metadata": {},
   "outputs": [],
   "source": [
    "new_user[0]"
   ]
  },
  {
   "cell_type": "code",
   "execution_count": null,
   "id": "33e53c8b",
   "metadata": {},
   "outputs": [],
   "source": []
  },
  {
   "cell_type": "code",
   "execution_count": null,
   "id": "3818c3d0",
   "metadata": {},
   "outputs": [],
   "source": [
    "df_cold"
   ]
  },
  {
   "cell_type": "code",
   "execution_count": null,
   "id": "229989a9",
   "metadata": {},
   "outputs": [],
   "source": [
    "len(df_cold.columns)"
   ]
  },
  {
   "cell_type": "code",
   "execution_count": null,
   "id": "79359ee7",
   "metadata": {},
   "outputs": [],
   "source": [
    "new_user"
   ]
  },
  {
   "cell_type": "code",
   "execution_count": null,
   "id": "38800409",
   "metadata": {},
   "outputs": [],
   "source": [
    "len(new_user)"
   ]
  },
  {
   "cell_type": "code",
   "execution_count": null,
   "id": "381f9d9a",
   "metadata": {},
   "outputs": [],
   "source": [
    "df_cold_temp = df_cold.copy()\n",
    "df_cold_temp.loc[len(df_cold_temp)] = new_user[0]\n",
    "df_cold_temp = df_cold_temp.rename(index={df_cold_temp.index[len(df_cold_temp)-1]: 1000})\n",
    "df_cold_temp"
   ]
  },
  {
   "cell_type": "code",
   "execution_count": null,
   "id": "e698182f",
   "metadata": {},
   "outputs": [],
   "source": [
    "df_cold_temp.index[len(df_cold_temp)-1]"
   ]
  },
  {
   "cell_type": "code",
   "execution_count": null,
   "id": "95ea35d8",
   "metadata": {},
   "outputs": [],
   "source": [
    "from sklearn.metrics.pairwise import cosine_similarity\n",
    "\n",
    "rows = []\n",
    "print(df_cold.iloc[-1, :])\n",
    "df_cold.index[df_cold.iloc[-1, 0]]"
   ]
  },
  {
   "cell_type": "code",
   "execution_count": null,
   "id": "48bd3b76",
   "metadata": {},
   "outputs": [],
   "source": [
    "for row in range(len(df_cold)):\n",
    "    ind = df_cold.index[row]\n",
    "    sim = cosine_similarity(np.array(df_cold.iloc[row, :]).reshape(1, 12), new_user)[0][0]\n",
    "    rows.append([ind, round(sim, 12)])\n",
    "    \n",
    "rows = sorted(rows, key = lambda x: x[1], reverse = True)\n",
    "print(rows)"
   ]
  },
  {
   "cell_type": "code",
   "execution_count": null,
   "id": "e9abbbf9",
   "metadata": {},
   "outputs": [],
   "source": [
    "n = 5\n",
    "similar_users = []\n",
    "temp = []\n",
    "for r in rows:\n",
    "    if len(similar_users) == n:\n",
    "        break\n",
    "    \n",
    "    if r not in similar_users:\n",
    "        similar_users.append(r)\n",
    "        temp.append(r[0])\n",
    "\n",
    "print(similar_users)"
   ]
  },
  {
   "cell_type": "code",
   "execution_count": null,
   "id": "818e0175",
   "metadata": {},
   "outputs": [],
   "source": [
    "similar_users = pd.DataFrame(similar_users, columns=['user_id', 'similarity'])\n",
    "similar_users = similar_users.set_index('user_id')\n",
    "similar_users"
   ]
  },
  {
   "cell_type": "code",
   "execution_count": null,
   "id": "3455edce",
   "metadata": {},
   "outputs": [],
   "source": [
    "i = similar_users.copy()\n",
    "i.loc[len(i)] = 0.997433\n",
    "i = i.rename(index={i.index[len(i)-1]: 896})\n",
    "i"
   ]
  },
  {
   "cell_type": "code",
   "execution_count": null,
   "id": "069ffb7d",
   "metadata": {},
   "outputs": [],
   "source": [
    "i.loc[896]"
   ]
  },
  {
   "cell_type": "code",
   "execution_count": null,
   "id": "3c8a1ebe",
   "metadata": {},
   "outputs": [],
   "source": [
    "i.drop_duplicates()"
   ]
  },
  {
   "cell_type": "code",
   "execution_count": null,
   "id": "ca17b2e9",
   "metadata": {},
   "outputs": [],
   "source": [
    "similar_user_movies = matrix_id[matrix_id.index.isin(temp)]\n",
    "similar_user_movies"
   ]
  },
  {
   "cell_type": "code",
   "execution_count": null,
   "id": "cab74ea6",
   "metadata": {},
   "outputs": [],
   "source": [
    "similar_user_movies = similar_user_movies.dropna(axis=1, how='all')\n",
    "similar_user_movies"
   ]
  },
  {
   "cell_type": "code",
   "execution_count": null,
   "id": "e18f52e7",
   "metadata": {},
   "outputs": [],
   "source": [
    "for i in similar_user_movies.columns:\n",
    "    print(i)"
   ]
  },
  {
   "cell_type": "code",
   "execution_count": null,
   "id": "c1217b1d",
   "metadata": {},
   "outputs": [],
   "source": [
    "movie_score = {}\n",
    "for i in similar_user_movies.columns:\n",
    "    movie_rating = similar_user_movies[i]\n",
    "    total = 0\n",
    "    count = 0\n",
    "    for u in similar_users.index:\n",
    "        if math.isnan(movie_rating[u]) is False:\n",
    "            score = similar_users.loc[u].item() *  movie_rating[u]\n",
    "            total += score\n",
    "            count += 1\n",
    "    \n",
    "    movie_score[i] = total/count\n",
    "\n",
    "movie_score = pd.DataFrame(movie_score.items(), columns=['movie_id', 'score'])\n",
    "ranked_movie_score = movie_score.sort_values(by='score', ascending=False)\n",
    "m = 15\n",
    "cold_movies = ranked_movie_score.head(m)"
   ]
  },
  {
   "cell_type": "code",
   "execution_count": null,
   "id": "79f84858",
   "metadata": {},
   "outputs": [],
   "source": [
    "cold_movies"
   ]
  },
  {
   "cell_type": "code",
   "execution_count": null,
   "id": "654d2470",
   "metadata": {},
   "outputs": [],
   "source": [
    "cold_movies['movie_id']"
   ]
  },
  {
   "cell_type": "code",
   "execution_count": null,
   "id": "efc6e446",
   "metadata": {},
   "outputs": [],
   "source": [
    "temp = []\n",
    "\n",
    "for m in cold_movies['movie_id']:\n",
    "    temp.append(m)\n",
    "\n",
    "temp"
   ]
  },
  {
   "cell_type": "code",
   "execution_count": null,
   "id": "084f6bc0",
   "metadata": {},
   "outputs": [],
   "source": [
    "#pickle.dump(df_cold, open('./../datafiles/df_cold.pkl', 'wb'))"
   ]
  },
  {
   "cell_type": "code",
   "execution_count": null,
   "id": "84f9818c",
   "metadata": {},
   "outputs": [],
   "source": [
    "#dump(model2, './../mlModels/model2.joblib')"
   ]
  },
  {
   "cell_type": "code",
   "execution_count": null,
   "id": "d2652108",
   "metadata": {},
   "outputs": [],
   "source": [
    "import sklearn\n",
    "\n",
    "sklearn.__version__"
   ]
  },
  {
   "cell_type": "code",
   "execution_count": null,
   "id": "8fbcf1f3",
   "metadata": {},
   "outputs": [],
   "source": [
    "links[links['movieId']==1512].tmdbId"
   ]
  },
  {
   "cell_type": "code",
   "execution_count": null,
   "id": "02226fa3",
   "metadata": {},
   "outputs": [],
   "source": [
    "links"
   ]
  },
  {
   "cell_type": "code",
   "execution_count": null,
   "id": "d3915c59",
   "metadata": {},
   "outputs": [],
   "source": [
    "links['movieId'].isnull().sum()"
   ]
  },
  {
   "cell_type": "code",
   "execution_count": null,
   "id": "ddb815c7",
   "metadata": {},
   "outputs": [],
   "source": [
    "links['movieId']"
   ]
  },
  {
   "cell_type": "code",
   "execution_count": null,
   "id": "867b3786",
   "metadata": {},
   "outputs": [],
   "source": [
    "links[links['movieId']==1512]"
   ]
  },
  {
   "cell_type": "code",
   "execution_count": null,
   "id": "cae15c1e",
   "metadata": {},
   "outputs": [],
   "source": [
    "z = matrix_id.columns.isin(links['movieId'].values)\n",
    "z.sum()"
   ]
  },
  {
   "cell_type": "code",
   "execution_count": null,
   "id": "66ef62cd",
   "metadata": {},
   "outputs": [],
   "source": [
    "1512 in matrix_id.columns"
   ]
  },
  {
   "cell_type": "code",
   "execution_count": null,
   "id": "a256c9e4",
   "metadata": {},
   "outputs": [],
   "source": [
    "matrix_id.columns"
   ]
  },
  {
   "cell_type": "code",
   "execution_count": null,
   "id": "029b67e7",
   "metadata": {},
   "outputs": [],
   "source": [
    "links.movieId.values"
   ]
  },
  {
   "cell_type": "code",
   "execution_count": null,
   "id": "79b39e3a",
   "metadata": {},
   "outputs": [],
   "source": [
    "1512 in links['movieId'].values"
   ]
  },
  {
   "cell_type": "code",
   "execution_count": null,
   "id": "af2ecbdb",
   "metadata": {},
   "outputs": [],
   "source": [
    "# from sklearn.cluster import KMeans\n",
    "# from scipy.sparse.linalg import svds\n",
    "\n",
    "# # Load the user-item ratings matrix\n",
    "# # ratings = matrix_id.copy()\n",
    "# # ratings = ratings.fillna(0).values\n",
    "\n",
    "# ratings = np.array([[5, 3, 0, 1],\n",
    "#                    [4, 0, 0, 1],\n",
    "#                    [1, 1, 0, 5],\n",
    "#                    [1, 0, 0, 4]])\n",
    "\n",
    "\n",
    "# kmeans = KMeans(n_clusters=3, random_state=0).fit(ratings)\n",
    "\n",
    "# user_clusters = kmeans.predict(ratings)\n",
    "# print(user_clusters)\n",
    "# item_clusters = kmeans.predict(ratings.T)\n",
    "# print(item_clusters)\n",
    "\n",
    "# for i in range(kmeans.n_clusters):\n",
    "#     user_mask = user_clusters == i\n",
    "#     print(user_mask)\n",
    "#     item_mask = item_clusters == i\n",
    "#     print(item_mask)\n",
    "#     cluster_ratings = ratings[user_mask, :][:, item_mask]\n",
    "#     print(cluster_ratings)\n",
    "\n",
    "#     U, sigma, Vt = svds(cluster_ratings, k=2)\n",
    "#     sigma = np.diag(sigma)\n",
    "    \n",
    "#     predicted_ratings = np.dot(np.dot(U, sigma), Vt)\n",
    "#     print(\"Predicted ratings for cluster\", i, \":\\n\", predicted_ratings)\n",
    "\n",
    "# nu = np.array([3, 0, 0, 2])\n",
    "\n",
    "\n",
    "# cluster = kmeans.predict(nu.reshape(1,-1))[0]\n",
    "\n",
    "# predicted_ratings = cluster_predictions[cluster]\n",
    "# print(\"Predicted ratings for new user:\\n\", predicted_ratings)"
   ]
  },
  {
   "cell_type": "code",
   "execution_count": null,
   "id": "87801aa0",
   "metadata": {},
   "outputs": [],
   "source": [
    "# from sklearn.cluster import KMeans\n",
    "\n",
    "# # Load user-item matrix\n",
    "# user_item_matrix = matrix_id.copy()\n",
    "# user_item_matrix = user_item_matrix.fillna(0)\n",
    "\n",
    "# print('matrix',user_item_matrix)\n",
    "\n",
    "# # Convert the user-item matrix to a numpy array\n",
    "# ratings = user_item_matrix.values\n",
    "\n",
    "# # Initialize the number of clusters\n",
    "# num_clusters = 5\n",
    "\n",
    "# # Train KMeans on the user-item matrix\n",
    "# kmeans = KMeans(n_clusters=num_clusters, random_state=0).fit(ratings)\n",
    "\n",
    "# # Assign each user to a cluster based on the KMeans model\n",
    "# user_clusters = kmeans.predict(ratings)\n",
    "\n",
    "# print('clus',user_clusters)\n",
    "\n",
    "# # Create a new dataframe to store the cluster assignments for each user\n",
    "# user_cluster_df = pd.DataFrame({\"user_id\": user_item_matrix.index, \"cluster_id\": user_clusters})\n",
    "\n",
    "# print('ucdf',user_cluster_df)\n",
    "\n",
    "# # Join the cluster assignments with the user-item matrix to create a user-item-cluster matrix\n",
    "# user_item_cluster_matrix = user_item_matrix.merge(user_cluster_df, left_index=True, right_on=\"user_id\")\n",
    "\n",
    "# print(user_item_cluster_matrix)\n",
    "\n",
    "# # Group the user-item-cluster matrix by cluster and item to get the average ratings for each item in each cluster\n",
    "# cluster_item_ratings = user_item_cluster_matrix.groupby([\"cluster_id\", \"item_id\"]).mean()[\"rating\"].reset_index()\n",
    "\n",
    "# # Use the cluster-item average ratings to make recommendations to users in the same cluster\n",
    "# def recommend_items(user_id, num_recs):\n",
    "#     user_cluster = user_cluster_df[user_cluster_df[\"user_id\"] == user_id][\"cluster_id\"].values[0]\n",
    "#     cluster_items = cluster_item_ratings[cluster_item_ratings[\"cluster_id\"] == user_cluster][[\"item_id\", \"rating\"]]\n",
    "#     top_recs = cluster_items.sort_values(\"rating\", ascending=False).head(num_recs)[\"item_id\"].tolist()\n",
    "#     return top_recs\n",
    "\n",
    "# # Example usage\n",
    "# print(recommend_items(0, 3))"
   ]
  },
  {
   "cell_type": "code",
   "execution_count": null,
   "id": "3b05ffcb",
   "metadata": {
    "scrolled": false
   },
   "outputs": [],
   "source": [
    "#cold start\n",
    "\n",
    "import pandas as pd\n",
    "from sklearn.cluster import KMeans\n",
    "\n",
    "# Load the user-item interaction data\n",
    "\n",
    "# Create a matrix of user-item interactions\n",
    "# user_item_matrix = data.pivot(index='user_id', columns='item_id', values='rating')\n",
    "# user_item_matrix = user_item_matrix.fillna(0)\n",
    "\n",
    "user_item_matrix = matrix_id.copy()\n",
    "user_item_matrix = user_item_matrix.fillna(0)\n",
    "\n",
    "# Train the KMeans model\n",
    "kmeans = KMeans(n_clusters=5, random_state=0)\n",
    "kmeans.fit(user_item_matrix)\n",
    "\n",
    "# Predict the cluster for a first time user\n",
    "new_user = [0]*1328\n",
    "first_time_user_cluster = kmeans.predict([new_user])[0]\n",
    "\n",
    "print(first_time_user_cluster)\n",
    "print(user_item_matrix.T)\n",
    "\n",
    "# # Recommend items based on the cluster of the first time user\n",
    "# recommended_items = []\n",
    "# for item_id, item in enumerate(user_item_matrix.T):\n",
    "#     print(item_id, item)\n",
    "#     if item[first_time_user_cluster] > 3:\n",
    "#         recommended_items.append(item_id)\n",
    "\n",
    "# for i in enumerate(user_item_matrix):\n",
    "#     print(i)\n",
    "\n",
    "# print(\"Recommended items for the first time user: \", recommended_items)\n",
    "\n",
    "print(kmeans.labels_)\n",
    "\n",
    "cluster_users = [i for i, label in enumerate(kmeans.labels_) if label == first_time_user_cluster]\n",
    "\n",
    "print('cluster_users',cluster_users)\n",
    "\n",
    "print(user_item_matrix.columns)\n",
    "\n",
    "# Recommend items based on the first-time user's cluster\n",
    "recommended_items = []\n",
    "# for i, row in enumerate(user_item_matrix.T):\n",
    "#     if kmeans.labels_[i] in cluster_users:\n",
    "#         print(i, row, user_item_matrix.T.columns[i])\n",
    "#         if sum(row >= 3) >= 3:\n",
    "#             recommended_items.append(user_item_matrix.columns[i])\n",
    "\n",
    "# recommended_items = []\n",
    "# for i, row in enumerate(user_item_matrix.T):\n",
    "#     #print(i, row)\n",
    "#     if i in cluster_users:\n",
    "#         print(row)\n",
    "\n",
    "# for i in range(len(user_item_matrix.T)):\n",
    "#     print(user_item_matrix.T.iloc[i])\n",
    "\n",
    "item_user_matrix = user_item_matrix.T.iloc[:, cluster_users]\n",
    "print(item_user_matrix)\n",
    "\n",
    "for i, mid in enumerate(item_user_matrix):\n",
    "    row = item_user_matrix.iloc[i]\n",
    "    #print((row >= 5).sum())\n",
    "\n",
    "average_ratings = item_user_matrix.mean(axis=1)\n",
    "print(average_ratings)\n",
    "print(len(average_ratings))\n",
    "\n",
    "N=10\n",
    "top_N_items = average_ratings.sort_values(ascending=False).head(N).index\n",
    "\n",
    "print(\"top 10 items\", top_N_items)\n",
    "print(\"Recommended items for first-time user: \", recommended_items)"
   ]
  },
  {
   "cell_type": "code",
   "execution_count": null,
   "id": "9feb24ee",
   "metadata": {},
   "outputs": [],
   "source": [
    "kmeans.inertia_"
   ]
  },
  {
   "cell_type": "code",
   "execution_count": null,
   "id": "87bb98ba",
   "metadata": {},
   "outputs": [],
   "source": [
    "import matplotlib.pyplot as plt\n",
    "\n",
    "distortions = []\n",
    "for i in range(1, 21):\n",
    "    km = KMeans(\n",
    "        n_clusters=i, init='random',\n",
    "        n_init=10, max_iter=300,\n",
    "        tol=1e-04, random_state=0\n",
    "    )\n",
    "    km.fit(user_item_matrix)\n",
    "    distortions.append(km.inertia_)\n",
    "\n",
    "print(distortions)\n",
    "    \n",
    "# plot\n",
    "plt.plot(range(1, 21), distortions, marker='o')\n",
    "plt.xlabel('Number of clusters')\n",
    "plt.ylabel('Distortion')\n",
    "plt.show()"
   ]
  },
  {
   "cell_type": "code",
   "execution_count": null,
   "id": "796f8ba4",
   "metadata": {},
   "outputs": [],
   "source": [
    "#cold start\n",
    "\n",
    "import pandas as pd\n",
    "from sklearn.cluster import KMeans\n",
    "\n",
    "# Load the user-item interaction data\n",
    "\n",
    "# Create a matrix of user-item interactions\n",
    "# user_item_matrix = data.pivot(index='user_id', columns='item_id', values='rating')\n",
    "# user_item_matrix = user_item_matrix.fillna(0)\n",
    "\n",
    "user_item_matrix = matrix_id.copy()\n",
    "user_item_matrix = user_item_matrix.fillna(0)\n",
    "\n",
    "# Train the KMeans model\n",
    "kmeans = KMeans(n_clusters=12, random_state=0)\n",
    "kmeans.fit(user_item_matrix)\n",
    "\n",
    "# Predict the cluster for a first time user\n",
    "new_user = [0]*1328\n",
    "first_time_user_cluster = kmeans.predict([new_user])[0]\n",
    "\n",
    "print(first_time_user_cluster)\n",
    "print(user_item_matrix.T)\n",
    "\n",
    "# # Recommend items based on the cluster of the first time user\n",
    "# recommended_items = []\n",
    "# for item_id, item in enumerate(user_item_matrix.T):\n",
    "#     print(item_id, item)\n",
    "#     if item[first_time_user_cluster] > 3:\n",
    "#         recommended_items.append(item_id)\n",
    "\n",
    "# for i in enumerate(user_item_matrix):\n",
    "#     print(i)\n",
    "\n",
    "# print(\"Recommended items for the first time user: \", recommended_items)\n",
    "\n",
    "print(kmeans.labels_)\n",
    "\n",
    "cluster_users = [i for i, label in enumerate(kmeans.labels_) if label == first_time_user_cluster]\n",
    "\n",
    "print('cluster_users',cluster_users)\n",
    "\n",
    "print(user_item_matrix.columns)\n",
    "\n",
    "# Recommend items based on the first-time user's cluster\n",
    "recommended_items = []\n",
    "# for i, row in enumerate(user_item_matrix.T):\n",
    "#     if kmeans.labels_[i] in cluster_users:\n",
    "#         print(i, row, user_item_matrix.T.columns[i])\n",
    "#         if sum(row >= 3) >= 3:\n",
    "#             recommended_items.append(user_item_matrix.columns[i])\n",
    "\n",
    "# recommended_items = []\n",
    "# for i, row in enumerate(user_item_matrix.T):\n",
    "#     #print(i, row)\n",
    "#     if i in cluster_users:\n",
    "#         print(row)\n",
    "\n",
    "# for i in range(len(user_item_matrix.T)):\n",
    "#     print(user_item_matrix.T.iloc[i])\n",
    "\n",
    "item_user_matrix = user_item_matrix.T.iloc[:, cluster_users]\n",
    "print(item_user_matrix)\n",
    "\n",
    "for i, mid in enumerate(item_user_matrix):\n",
    "    row = item_user_matrix.iloc[i]\n",
    "    #print((row >= 5).sum())\n",
    "\n",
    "average_ratings = item_user_matrix.mean(axis=1)\n",
    "print(average_ratings)\n",
    "print(len(average_ratings))\n",
    "\n",
    "N=10\n",
    "top_N_items = average_ratings.sort_values(ascending=False).head(N).index\n",
    "\n",
    "print(\"top 10 items\", top_N_items)\n",
    "print(\"Recommended items for first-time user: \", recommended_items)\n",
    "print(kmeans.inertia_)"
   ]
  },
  {
   "cell_type": "code",
   "execution_count": null,
   "id": "93a06cca",
   "metadata": {},
   "outputs": [],
   "source": [
    "import pandas as pd\n",
    "from sklearn.cluster import KMeans\n",
    "from sklearn.metrics import f1_score\n",
    "\n",
    "# Load the ratings data\n",
    "ratings_data = df_rating2.copy()\n",
    "\n",
    "# Create a test set from the ratings data\n",
    "test_set = ratings_data.sample(frac=0.2)\n",
    "\n",
    "# Create a user-item matrix for the training data\n",
    "train_set = ratings_data.drop(test_set.index)\n",
    "user_item_matrix = train_set.pivot_table(index='user_id', columns='movie_id', values='rating')\n",
    "\n",
    "# Replace NaN values with 0\n",
    "user_item_matrix.fillna(0, inplace=True)\n",
    "\n",
    "# Cluster the users using KMeans\n",
    "kmeans = KMeans(n_clusters=10)\n",
    "kmeans.fit(user_item_matrix)\n",
    "\n",
    "# Find the closest cluster for each user in the test set\n",
    "test_user_clusters = kmeans.predict(user_item_matrix.loc[test_set['user_id']])\n",
    "\n",
    "# Recommend items for each user in the test set\n",
    "recommended_items = {}\n",
    "for i, user_id in enumerate(test_set['user_id']):\n",
    "    # Find all users in the same cluster as the current user\n",
    "    cluster_indices = np.where(kmeans.labels_ == test_user_clusters[i])[0]\n",
    "    cluster_data = user_item_matrix.iloc[cluster_indices, :]\n",
    "    \n",
    "    # Calculate the average ratings for each item in the cluster\n",
    "    average_ratings = cluster_data.mean(axis=0)\n",
    "    \n",
    "    # Recommend the top N items with the highest average ratings\n",
    "    N = 10\n",
    "    top_N_items = average_ratings.sort_values(ascending=False).head(N).index\n",
    "    \n",
    "    # Store the recommended items for the current user\n",
    "    recommended_items[user_id] = top_N_items\n",
    "    \n",
    "print(len(top_N_items))    \n",
    "\n",
    "# Calculate the F1-score for the recommendations\n",
    "y_true = []\n",
    "y_pred = []\n",
    "print(test_set)\n",
    "for user_id, items in recommended_items.items():\n",
    "    true_ratings = test_set[(test_set['user_id'] == user_id) & (test_set['rating'] >= 4)].movie_id.tolist()\n",
    "    print('true_ratings',true_ratings)\n",
    "    print('items',items)\n",
    "    y_true.extend(true_ratings)\n",
    "    y_pred.extend(items)\n",
    "f1 = f1_score(y_true, y_pred, average='micro')\n",
    "\n",
    "# Print the F1-score\n",
    "print(\"F1-score:\", f1)"
   ]
  },
  {
   "cell_type": "code",
   "execution_count": null,
   "id": "fa67c8f3",
   "metadata": {},
   "outputs": [],
   "source": [
    "import pandas as pd\n",
    "from sklearn.cluster import KMeans\n",
    "from sklearn.metrics import f1_score\n",
    "\n",
    "# Load the ratings data\n",
    "ratings_data = df_rating2.copy()\n",
    "\n",
    "# Create a test set from the ratings data\n",
    "test_set = ratings_data.sample(frac=0.2)\n",
    "\n",
    "# Create a user-item matrix for the training data\n",
    "train_set = ratings_data.drop(test_set.index)\n",
    "user_item_matrix = train_set.pivot_table(index='user_id', columns='movie_id', values='rating')\n",
    "\n",
    "# Replace NaN values with 0\n",
    "user_item_matrix.fillna(0, inplace=True)\n",
    "\n",
    "# Cluster the users using KMeans\n",
    "kmeans = KMeans(n_clusters=10)\n",
    "kmeans.fit(user_item_matrix)\n",
    "\n",
    "# Find the closest cluster for each user in the test set\n",
    "#test_user_clusters = kmeans.predict(user_item_matrix.loc[test_set['user_id\n",
    "                                                                  \n",
    "test_user_ids = set(test_set['user_id'].unique())\n",
    "matrix_user_ids = set(user_item_matrix.index)\n",
    "common_user_ids = test_user_ids & matrix_user_ids\n",
    "\n",
    "print(len(test_user_ids))\n",
    "print(len(common_user_ids))\n",
    "\n",
    "\n",
    "test_user_clusters = kmeans.predict(user_item_matrix.loc[list(common_user_ids)])\n",
    "\n",
    "\n",
    "# Recommend items for each user in the test set\n",
    "recommended_items = {}\n",
    "for i, user_id in enumerate(common_user_ids):\n",
    "    # Find all users in the same cluster as the current user\n",
    "    cluster_indices = np.where(kmeans.labels_ == test_user_clusters[i])[0]\n",
    "    cluster_data = user_item_matrix.iloc[cluster_indices, :]\n",
    "    \n",
    "    # Calculate the average ratings for each item in the cluster\n",
    "    average_ratings = cluster_data.mean(axis=0)\n",
    "    \n",
    "    # Recommend the top N items with the highest average ratings\n",
    "    N = 10\n",
    "    top_N_items = average_ratings.sort_values(ascending=False).head(N).index\n",
    "    \n",
    "    # Store the recommended items for the current user\n",
    "    recommended_items[user_id] = top_N_items\n",
    "    \n",
    "print(len(top_N_items))   \n",
    "print(top_N_items)\n",
    "\n",
    "# # Calculate the F1-score for the recommendations\n",
    "# y_true = []\n",
    "# y_pred = []\n",
    "# print(test_set)\n",
    "# for user_id, items in recommended_items.items():\n",
    "#     true_ratings = test_set[(test_set['user_id'] == user_id) & (test_set['rating'] >= 4)].movie_id.tolist()\n",
    "#     print('true_ratings',true_ratings)\n",
    "#     print('items',items)\n",
    "#     y_true.extend(true_ratings)\n",
    "#     y_pred.extend(items)\n",
    "# f1 = f1_score(y_true, y_pred, average='micro')\n",
    "\n",
    "# # Print the F1-score\n",
    "# print(\"F1-score:\", f1)"
   ]
  },
  {
   "cell_type": "code",
   "execution_count": null,
   "id": "7bc61e58",
   "metadata": {},
   "outputs": [],
   "source": [
    "import pandas as pd\n",
    "from sklearn.cluster import KMeans\n",
    "from sklearn.metrics import f1_score\n",
    "\n",
    "# Load the ratings data\n",
    "ratings_data = df_rating2.copy()\n",
    "\n"
   ]
  }
 ],
 "metadata": {
  "kernelspec": {
   "display_name": "Python 3 (ipykernel)",
   "language": "python",
   "name": "python3"
  },
  "language_info": {
   "codemirror_mode": {
    "name": "ipython",
    "version": 3
   },
   "file_extension": ".py",
   "mimetype": "text/x-python",
   "name": "python",
   "nbconvert_exporter": "python",
   "pygments_lexer": "ipython3",
   "version": "3.9.12"
  }
 },
 "nbformat": 4,
 "nbformat_minor": 5
}
