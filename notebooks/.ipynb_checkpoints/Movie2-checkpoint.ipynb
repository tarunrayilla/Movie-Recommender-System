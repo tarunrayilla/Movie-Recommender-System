{
 "cells": [
  {
   "cell_type": "markdown",
   "id": "97202dbb",
   "metadata": {},
   "source": [
    "# Preprocessing"
   ]
  },
  {
   "cell_type": "code",
   "execution_count": null,
   "id": "d8ca1582",
   "metadata": {},
   "outputs": [],
   "source": [
    "df_rating = pd.read_csv(\"C:/Users/91995/Downloads/archive/ml-100k/u.data\", sep=\"\\t\")\n",
    "df_rating.columns = ['user_id', 'movie_id', 'rating', 'timestamp']\n",
    "df_rating = df_rating.drop(['timestamp'], axis=1)\n",
    "\n",
    "rating_counts = df_rating.groupby('user_id')['rating'].count()"
   ]
  },
  {
   "cell_type": "code",
   "execution_count": null,
   "id": "f24389f7",
   "metadata": {},
   "outputs": [],
   "source": [
    "import matplotlib.pyplot as plt\n",
    "\n",
    "plt.plot(rating_counts.index, rating_counts.values)\n",
    "plt.xlabel('user')\n",
    "plt.ylabel('no of ratings')\n",
    "plt.show()"
   ]
  },
  {
   "cell_type": "code",
   "execution_count": null,
   "id": "c453753f",
   "metadata": {},
   "outputs": [],
   "source": [
    "df_rating = df_rating.groupby('user_id').filter(lambda x: len(x) >= 270)"
   ]
  },
  {
   "cell_type": "code",
   "execution_count": null,
   "id": "fa995473",
   "metadata": {},
   "outputs": [],
   "source": [
    "from sklearn.preprocessing import LabelEncoder\n",
    "\n",
    "df_user = pd.read_csv('C:/Users/91995/Downloads/archive/ml-100k/u.user', sep='|', header=None)\n",
    "df_user.columns = ['user_id', 'age', 'gender', 'occupation', 'zip_code']\n",
    "\n",
    "en = LabelEncoder()\n",
    "df_user['gender'] = en.fit_transform(df_user['gender'])"
   ]
  },
  {
   "cell_type": "code",
   "execution_count": null,
   "id": "2f5125b8",
   "metadata": {},
   "outputs": [],
   "source": [
    "df = pd.merge(df_rating, df_item, on='movie_id')\n",
    "df = pd.merge(df, df_genre, on='movie_id')\n",
    "df = pd.merge(df, df_user, on='user_id')\n",
    "df = df.dropna()"
   ]
  },
  {
   "cell_type": "code",
   "execution_count": null,
   "id": "aa57d083",
   "metadata": {},
   "outputs": [],
   "source": [
    "matrix_id = df.pivot_table(index='user_id', columns='movie_id', values='rating')"
   ]
  },
  {
   "cell_type": "markdown",
   "id": "5a400323",
   "metadata": {},
   "source": [
    "# Model"
   ]
  },
  {
   "cell_type": "code",
   "execution_count": null,
   "id": "58c9b3fe",
   "metadata": {},
   "outputs": [],
   "source": [
    "from surprise import SVD\n",
    "from surprise import Dataset, Reader, NormalPredictor\n",
    "from surprise.model_selection import train_test_split\n",
    "from surprise.model_selection import GridSearchCV\n",
    "\n",
    "reader = Reader(rating_scale=(1, 5))\n",
    "data = Dataset.load_from_df(df_rating, reader)\n",
    "trainData, testData = train_test_split(data, random_state=1)\n",
    "\n",
    "param_grid = {\"n_epochs\": [5, 10], \"lr_all\": [0.002, 0.005], \"reg_all\": [0.4, 0.6]}\n",
    "gs = GridSearchCV(SVD, param_grid, measures=[\"rmse\", \"mae\"], cv=3)\n",
    "gs.fit(data)\n",
    "\n",
    "print(gs.best_score[\"rmse\"])\n",
    "print(gs.best_params[\"rmse\"])\n",
    "\n",
    "model = SVD(n_epochs=10, lr_all=0.005, reg_all=0.4)\n",
    "model.fit(trainData)"
   ]
  },
  {
   "cell_type": "code",
   "execution_count": null,
   "id": "9d625cd3",
   "metadata": {},
   "outputs": [],
   "source": [
    "import math\n",
    "\n",
    "def recommend(uid):\n",
    "    movies_unwatched = []\n",
    "    temp = matrix_id.loc[uid]\n",
    "    \n",
    "    for a, b in temp.iteritems():\n",
    "        if math.isnan(b):\n",
    "            movies_unwatched.append([a, round(model.predict(uid, a).est, 3)])\n",
    "    \n",
    "    movies_unwatched = sorted(movies_unwatched, key = lambda x: x[1], reverse=True)\n",
    "    \n",
    "    return movies_unwatched"
   ]
  },
  {
   "cell_type": "code",
   "execution_count": null,
   "id": "6d737b47",
   "metadata": {},
   "outputs": [],
   "source": [
    "recommendations = []\n",
    "for i in range(15):\n",
    "    print(movies_unwatched[i][0])\n",
    "    recommendations.append(links[links['movieId']==movies_unwatched[i][0]].tmdbId)\n",
    "\n",
    "print(recommendations)"
   ]
  },
  {
   "cell_type": "code",
   "execution_count": null,
   "id": "905404e0",
   "metadata": {},
   "outputs": [],
   "source": []
  }
 ],
 "metadata": {
  "kernelspec": {
   "display_name": "Python 3 (ipykernel)",
   "language": "python",
   "name": "python3"
  },
  "language_info": {
   "codemirror_mode": {
    "name": "ipython",
    "version": 3
   },
   "file_extension": ".py",
   "mimetype": "text/x-python",
   "name": "python",
   "nbconvert_exporter": "python",
   "pygments_lexer": "ipython3",
   "version": "3.9.12"
  }
 },
 "nbformat": 4,
 "nbformat_minor": 5
}
