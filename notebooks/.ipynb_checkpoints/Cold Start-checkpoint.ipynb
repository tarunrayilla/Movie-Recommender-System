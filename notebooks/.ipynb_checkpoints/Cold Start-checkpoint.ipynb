{
 "cells": [
  {
   "cell_type": "code",
   "execution_count": 16,
   "id": "e84f572d",
   "metadata": {},
   "outputs": [],
   "source": [
    "import pandas as pd\n",
    "import numpy as np\n",
    "from sklearn.model_selection import train_test_split"
   ]
  },
  {
   "cell_type": "code",
   "execution_count": 17,
   "id": "064b7213",
   "metadata": {},
   "outputs": [],
   "source": [
    "df_rating = pd.read_csv(\"C:/Users/91995/Downloads/archive/ml-100k/u.data\", sep=\"\\t\")\n",
    "df_rating.columns = ['user_id', 'movie_id', 'rating', 'timestamp']\n",
    "df_rating = df_rating.drop(['timestamp'], axis=1)\n",
    "df_rating2 = df_rating.groupby('user_id').filter(lambda x: len(x) >= 270)\n",
    "\n",
    "\n",
    "df_user = pd.read_csv('C:/Users/91995/Downloads/archive/ml-100k/u.user', sep='|', header=None)\n",
    "df_user.columns = ['user_id', 'age', 'gender', 'occupation', 'zip_code']\n",
    "from sklearn.preprocessing import LabelEncoder\n",
    "en = LabelEncoder()\n",
    "df_user['gender'] = en.fit_transform(df_user['gender'])\n",
    "\n",
    "\n",
    "item_cols = ['movie_id', 'movie_title', 'release_date', 'video_release_date', 'imdb_url']\n",
    "genre_cols = ['unknown', 'action', 'adventure', 'animation', 'children', 'comedy', 'crime', 'documentary',\n",
    "              'drama','fantasy', 'film_noir', 'horror', 'musical', 'mystery', 'romance', 'sci_fi', 'thriller', \n",
    "              'war','western']\n",
    "\n",
    "df_item_genre = pd.read_csv('C:/Users/91995/Downloads/archive/ml-100k/u.item', sep='|',encoding='latin-1')\n",
    "df_item_genre.columns = item_cols + genre_cols\n",
    "\n",
    "\n",
    "df_item = df_item_genre[item_cols]\n",
    "use_item_cols = ['movie_id', 'movie_title', 'release_date']\n",
    "df_item = df_item[use_item_cols]\n",
    "\n",
    "df_genre = df_item_genre[['movie_id'] + genre_cols]\n",
    "\n",
    "df3 = pd.merge(df_rating2, df_item, on='movie_id')\n",
    "df3 = pd.merge(df3, df_genre, on='movie_id')\n",
    "df3 = pd.merge(df3, df_user, on='user_id')\n",
    "\n",
    "\n",
    "links = pd.read_csv(\"C:/Users/91995/Downloads/archive/ml-100k/links.csv\")\n",
    "links = links.dropna()\n",
    "\n",
    "\n",
    "movies = pd.read_csv(\"C:/Users/91995/Downloads/archive/ml-100k/movies.csv\")\n",
    "movies.columns = ['movie_id2', 'movie_title', 'genres']\n",
    "\n",
    "\n",
    "df3 = df3.join(movies.set_index('movie_title'), on='movie_title')\n",
    "\n",
    "df3 = df3.drop(['occupation', 'zip_code', 'genres'], axis=1)\n",
    "\n",
    "\n",
    "df3 = df3.dropna()\n",
    "\n",
    "df3 = df3.drop(['unknown', 'documentary', 'fantasy', 'film_noir', 'war', 'western'], axis=1)\n",
    "df3 = df3[df3['movie_id'].isin(links['movieId'].values)]\n",
    "\n",
    "df_cold = df3[['user_id','animation','comedy','crime', 'drama', 'musical', 'mystery', 'romance', 'sci_fi', 'thriller', 'age', 'gender','rating']]\n",
    "df_cold = df_cold.set_index('user_id')\n",
    "\n",
    "matrix_id = df3.pivot_table(index='user_id', columns='movie_id', values='rating')"
   ]
  },
  {
   "cell_type": "code",
   "execution_count": 18,
   "id": "ca341fe3",
   "metadata": {},
   "outputs": [
    {
     "data": {
      "text/plain": [
       "GradientBoostingClassifier()"
      ]
     },
     "execution_count": 18,
     "metadata": {},
     "output_type": "execute_result"
    }
   ],
   "source": [
    "data_cold = df_cold.values\n",
    "\n",
    "x = data_cold[:, :-1]\n",
    "y = data_cold[:, -1]\n",
    "\n",
    "x_train, x_test, y_train, y_test = train_test_split(x, y, test_size=1, random_state=1)\n",
    "\n",
    "from sklearn.ensemble import GradientBoostingClassifier\n",
    "\n",
    "bc = GradientBoostingClassifier()\n",
    "bc.fit(x_train, y_train)"
   ]
  },
  {
   "cell_type": "code",
   "execution_count": 19,
   "id": "6efece97",
   "metadata": {},
   "outputs": [
    {
     "name": "stdout",
     "output_type": "stream",
     "text": [
      "[[ 1  1  1  0  0  1  0  0  1 26  1  4]]\n",
      "[[758, 0.9992633389804575], [334, 0.9987646775507729], [94, 0.9985663075064698], [178, 0.9985663075064698], [286, 0.9985471521597764]]\n",
      "         similarity\n",
      "user_id            \n",
      "758        0.999263\n",
      "334        0.998765\n",
      "94         0.998566\n",
      "178        0.998566\n",
      "286        0.998547\n"
     ]
    }
   ],
   "source": [
    "#x_test is array of preferences of user\n",
    "#eg: x_test = [1, 1, 1, 0, 0, 1, 0, 0, 1, 26, 1]\n",
    "from sklearn.metrics.pairwise import cosine_similarity\n",
    "import math\n",
    "\n",
    "x_test = [1, 1, 1, 0, 0, 1, 0, 0, 1, 26, 1]\n",
    "x_test = np.array([x_test])\n",
    "y_pred = bc.predict(x_test)\n",
    "new_user_array = np.append(x_test[0], y_pred)\n",
    "new_user_array = np.array([new_user_array])\n",
    "print(new_user_array)\n",
    "\n",
    "rows = []\n",
    "for row in range(len(df_cold)):\n",
    "    ind = df_cold.index[row]\n",
    "    sim = cosine_similarity(np.array(df_cold.iloc[row, :]).reshape(1, 12), new_user_array)[0][0]\n",
    "    rows.append([ind, sim])\n",
    "\n",
    "rows = sorted(rows, key = lambda x: x[1], reverse = True)\n",
    "\n",
    "n = 5\n",
    "similar_users = []\n",
    "temp = []\n",
    "for r in rows:\n",
    "    if len(similar_users) == n:\n",
    "        break\n",
    "\n",
    "    if r not in similar_users:\n",
    "        similar_users.append(r)\n",
    "        temp.append(r[0])\n",
    "\n",
    "print(similar_users)\n",
    "\n",
    "similar_users = pd.DataFrame(similar_users, columns=['user_id', 'similarity'])\n",
    "similar_users = similar_users.set_index('user_id')\n",
    "print(similar_users)\n",
    "\n",
    "similar_user_movies = matrix_id[matrix_id.index.isin(temp)].dropna(axis=1, how='all')\n",
    "\n",
    "movie_score = {}\n",
    "for i in similar_user_movies.columns:\n",
    "    movie_rating = similar_user_movies[i]\n",
    "    total = 0\n",
    "    count = 0\n",
    "    for u in similar_users.index:\n",
    "        if math.isnan(movie_rating[u]) is False:\n",
    "            score = similar_users.loc[u].item() *  movie_rating[u]\n",
    "            total += score\n",
    "            count += 1\n",
    "\n",
    "    movie_score[i] = total/count\n",
    "\n",
    "movie_score = pd.DataFrame(movie_score.items(), columns=['movie_id', 'score'])\n",
    "ranked_movie_score = movie_score.sort_values(by='score', ascending=False)"
   ]
  },
  {
   "cell_type": "code",
   "execution_count": 22,
   "id": "dccfd211",
   "metadata": {},
   "outputs": [
    {
     "name": "stdout",
     "output_type": "stream",
     "text": [
      "[11331.0, 90214.0, 89333.0, 87078.0, 19101.0, 108365.0, 34996.0, 11107.0, 11224.0, 17585.0, 10714.0, 10331.0, 217802.0, 25739.0, 67365.0, 40480.0]\n"
     ]
    }
   ],
   "source": [
    "m = 16\n",
    "temp = []\n",
    "\n",
    "for m in ranked_movie_score['movie_id']:\n",
    "    if len(temp) ==  16:\n",
    "        break\n",
    "    tmdb_id = links[links['movieId']==m].tmdbId.item()\n",
    "#     if Watched.objects.filter(user=new_user, movie=tmdb_id).exists():\n",
    "#         print('already watched', tmdb_id)\n",
    "#         continue\n",
    "    #skip movie if already watched \n",
    "    temp.append(m)\n",
    "\n",
    "#tmdb movie id    \n",
    "recommendations = []\n",
    "for m in temp:\n",
    "    if len(links[links['movieId']==m])== 0:\n",
    "        print('hi')\n",
    "        continue\n",
    "    recommendations.append(links[links['movieId']==m].tmdbId.item())\n",
    "\n",
    "print(recommendations)"
   ]
  }
 ],
 "metadata": {
  "kernelspec": {
   "display_name": "Python 3 (ipykernel)",
   "language": "python",
   "name": "python3"
  },
  "language_info": {
   "codemirror_mode": {
    "name": "ipython",
    "version": 3
   },
   "file_extension": ".py",
   "mimetype": "text/x-python",
   "name": "python",
   "nbconvert_exporter": "python",
   "pygments_lexer": "ipython3",
   "version": "3.9.12"
  }
 },
 "nbformat": 4,
 "nbformat_minor": 5
}
